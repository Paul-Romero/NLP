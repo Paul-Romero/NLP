{
 "cells": [
  {
   "cell_type": "markdown",
   "id": "d426f8fa",
   "metadata": {},
   "source": [
    "![metodology](https://www.muycomputerpro.com/wp-content/uploads/2019/03/machine_learning_train.jpeg)"
   ]
  },
  {
   "cell_type": "markdown",
   "id": "79d3f469",
   "metadata": {},
   "source": [
    "## Cargar el Dataset"
   ]
  },
  {
   "cell_type": "code",
   "execution_count": 1,
   "id": "1e1b14d4",
   "metadata": {},
   "outputs": [],
   "source": [
    "import pandas as pd"
   ]
  },
  {
   "cell_type": "code",
   "execution_count": 2,
   "id": "fba860d9",
   "metadata": {},
   "outputs": [
    {
     "name": "stdout",
     "output_type": "stream",
     "text": [
      "<class 'pandas.core.frame.DataFrame'>\n",
      "RangeIndex: 17017 entries, 0 to 17016\n",
      "Data columns (total 3 columns):\n",
      " #   Column  Non-Null Count  Dtype \n",
      "---  ------  --------------  ----- \n",
      " 0   User    17017 non-null  object\n",
      " 1   Text    17017 non-null  object\n",
      " 2   Groom   17017 non-null  bool  \n",
      "dtypes: bool(1), object(2)\n",
      "memory usage: 282.6+ KB\n"
     ]
    }
   ],
   "source": [
    "df = pd.read_csv(\"Dataset/kalowoodsman.csv\")\n",
    "df.info()"
   ]
  },
  {
   "cell_type": "code",
   "execution_count": 3,
   "id": "d595f6eb",
   "metadata": {},
   "outputs": [
    {
     "data": {
      "text/html": [
       "<div>\n",
       "<style scoped>\n",
       "    .dataframe tbody tr th:only-of-type {\n",
       "        vertical-align: middle;\n",
       "    }\n",
       "\n",
       "    .dataframe tbody tr th {\n",
       "        vertical-align: top;\n",
       "    }\n",
       "\n",
       "    .dataframe thead th {\n",
       "        text-align: right;\n",
       "    }\n",
       "</style>\n",
       "<table border=\"1\" class=\"dataframe\">\n",
       "  <thead>\n",
       "    <tr style=\"text-align: right;\">\n",
       "      <th></th>\n",
       "      <th>User</th>\n",
       "      <th>Text</th>\n",
       "      <th>Groom</th>\n",
       "    </tr>\n",
       "  </thead>\n",
       "  <tbody>\n",
       "    <tr>\n",
       "      <th>0</th>\n",
       "      <td>kalowoodsman</td>\n",
       "      <td>youre all kinds of gorgeous</td>\n",
       "      <td>1</td>\n",
       "    </tr>\n",
       "    <tr>\n",
       "      <th>1</th>\n",
       "      <td>keri</td>\n",
       "      <td>hi</td>\n",
       "      <td>0</td>\n",
       "    </tr>\n",
       "    <tr>\n",
       "      <th>2</th>\n",
       "      <td>keri</td>\n",
       "      <td>do i know u</td>\n",
       "      <td>0</td>\n",
       "    </tr>\n",
       "    <tr>\n",
       "      <th>3</th>\n",
       "      <td>kalowoodsman</td>\n",
       "      <td>no just dropping you a compliment liked what i...</td>\n",
       "      <td>1</td>\n",
       "    </tr>\n",
       "    <tr>\n",
       "      <th>4</th>\n",
       "      <td>keri</td>\n",
       "      <td>ty lol</td>\n",
       "      <td>0</td>\n",
       "    </tr>\n",
       "    <tr>\n",
       "      <th>...</th>\n",
       "      <td>...</td>\n",
       "      <td>...</td>\n",
       "      <td>...</td>\n",
       "    </tr>\n",
       "    <tr>\n",
       "      <th>17012</th>\n",
       "      <td>kalowoodsman</td>\n",
       "      <td>would you even want to be my wife</td>\n",
       "      <td>1</td>\n",
       "    </tr>\n",
       "    <tr>\n",
       "      <th>17013</th>\n",
       "      <td>13-yr-old-girl</td>\n",
       "      <td>yea</td>\n",
       "      <td>0</td>\n",
       "    </tr>\n",
       "    <tr>\n",
       "      <th>17014</th>\n",
       "      <td>13-yr-old-girl</td>\n",
       "      <td>if ur nice 2 me</td>\n",
       "      <td>0</td>\n",
       "    </tr>\n",
       "    <tr>\n",
       "      <th>17015</th>\n",
       "      <td>kalowoodsman</td>\n",
       "      <td>ill be back on a little later i think stay safe</td>\n",
       "      <td>1</td>\n",
       "    </tr>\n",
       "    <tr>\n",
       "      <th>17016</th>\n",
       "      <td>13-yr-old-girl</td>\n",
       "      <td>ok</td>\n",
       "      <td>0</td>\n",
       "    </tr>\n",
       "  </tbody>\n",
       "</table>\n",
       "<p>17017 rows × 3 columns</p>\n",
       "</div>"
      ],
      "text/plain": [
       "                 User                                               Text  \\\n",
       "0        kalowoodsman                        youre all kinds of gorgeous   \n",
       "1                keri                                                 hi   \n",
       "2                keri                                        do i know u   \n",
       "3        kalowoodsman  no just dropping you a compliment liked what i...   \n",
       "4                keri                                             ty lol   \n",
       "...               ...                                                ...   \n",
       "17012    kalowoodsman                  would you even want to be my wife   \n",
       "17013  13-yr-old-girl                                                yea   \n",
       "17014  13-yr-old-girl                                    if ur nice 2 me   \n",
       "17015    kalowoodsman    ill be back on a little later i think stay safe   \n",
       "17016  13-yr-old-girl                                                 ok   \n",
       "\n",
       "       Groom  \n",
       "0          1  \n",
       "1          0  \n",
       "2          0  \n",
       "3          1  \n",
       "4          0  \n",
       "...      ...  \n",
       "17012      1  \n",
       "17013      0  \n",
       "17014      0  \n",
       "17015      1  \n",
       "17016      0  \n",
       "\n",
       "[17017 rows x 3 columns]"
      ]
     },
     "execution_count": 3,
     "metadata": {},
     "output_type": "execute_result"
    }
   ],
   "source": [
    "from sklearn.preprocessing import LabelEncoder\n",
    "num_encoder = LabelEncoder()\n",
    "df['Groom'] = num_encoder.fit_transform(df['Groom']).astype('int')\n",
    "#df['Text'] = num_encoder.fit_transform(df['Text']).astype('int')\n",
    "df"
   ]
  },
  {
   "cell_type": "markdown",
   "id": "df5f13bb",
   "metadata": {},
   "source": [
    "## Extracción y selección de características del texto\n",
    "Convertir texto en una matriz de tokens contables "
   ]
  },
  {
   "cell_type": "code",
   "execution_count": 4,
   "id": "ed877304",
   "metadata": {},
   "outputs": [],
   "source": [
    "#from sklearn.feature_extraction.text import CountVectorizer\n",
    "from sklearn.feature_extraction.text import TfidfVectorizer\n",
    "from sklearn.feature_selection import SelectKBest, chi2\n",
    "\n",
    "df_pos, df_neg = df[df['Groom']==1][:6000], df[df['Groom']==0][:6000]\n",
    "new_df = pd.concat([df_pos, df_neg])\n",
    "new_df.value_counts('Groom')"
   ]
  },
  {
   "cell_type": "code",
   "execution_count": 5,
   "id": "a47799fe",
   "metadata": {},
   "outputs": [],
   "source": [
    "from nltk.corpus import stopwords\n",
    "stpw = stopwords.words('english')\n",
    "stpws = open('en-stopwords.txt', 'r').readlines()\n",
    "stpw.extend(stpws)\n",
    "stemmer = SnowballStemmer('english')\n",
    "\n",
    "def processing_text(text):\n",
    "    words = word_tokenize(text)\n",
    "    words = [k for k in words if k not in stpw]\n",
    "    words = ' '.join(str(k) for k in words)\n",
    "    return words"
   ]
  },
  {
   "cell_type": "code",
   "execution_count": 6,
   "id": "c2e62667",
   "metadata": {},
   "outputs": [],
   "source": [
    "#CV = CountVectorizer()\n",
    "TF_IDF = TfidfVectorizer(ngram_range=(1,2), stop_words=stpw)\n",
    "KChi = SelectKBest(chi2, k=20)"
   ]
  },
  {
   "cell_type": "code",
   "execution_count": 7,
   "id": "b039598d",
   "metadata": {},
   "outputs": [],
   "source": [
    "X, y = df['Text'].values, df['Groom'].values"
   ]
  },
  {
   "cell_type": "code",
   "execution_count": 29,
   "id": "152fda51",
   "metadata": {},
   "outputs": [
    {
     "name": "stdout",
     "output_type": "stream",
     "text": [
      "(17017, 18736)\n"
     ]
    }
   ],
   "source": [
    "X_vect = TF_IDF.fit_transform(X)"
   ]
  },
  {
   "cell_type": "code",
   "execution_count": 67,
   "id": "dac2c034",
   "metadata": {},
   "outputs": [
    {
     "data": {
      "text/plain": [
       "0"
      ]
     },
     "execution_count": 67,
     "metadata": {},
     "output_type": "execute_result"
    }
   ],
   "source": [
    "TF_IDF.get_feature_names().count(TF_IDF.get_stop_words())"
   ]
  },
  {
   "cell_type": "code",
   "execution_count": 41,
   "id": "29786a55",
   "metadata": {},
   "outputs": [
    {
     "data": {
      "text/plain": [
       "array(['liked saw', 'compliment liked', 'dropping compliment', 'saw',\n",
       "       'liked', 'compliment', 'dropping'], dtype='<U30')"
      ]
     },
     "execution_count": 41,
     "metadata": {},
     "output_type": "execute_result"
    }
   ],
   "source": [
    "TF_IDF.inverse_transform(X_vect)[3]"
   ]
  },
  {
   "cell_type": "code",
   "execution_count": 39,
   "id": "12a86c05",
   "metadata": {},
   "outputs": [
    {
     "data": {
      "text/plain": [
       "'no just dropping you a compliment liked what i saw of you'"
      ]
     },
     "execution_count": 39,
     "metadata": {},
     "output_type": "execute_result"
    }
   ],
   "source": [
    "df.Text.loc[3]"
   ]
  },
  {
   "cell_type": "markdown",
   "id": "7064faa6",
   "metadata": {},
   "source": [
    "## Dividir el conjunto de datos en entrenamiento y prueba\n",
    "Retenemos algún subconjunto de los datos del entrenamiento del modelo y luego usamos este conjunto de reserva para verificar el rendimiento del modelo"
   ]
  },
  {
   "cell_type": "code",
   "execution_count": 8,
   "id": "e2275014",
   "metadata": {},
   "outputs": [],
   "source": [
    "from sklearn.model_selection import train_test_split"
   ]
  },
  {
   "cell_type": "code",
   "execution_count": 9,
   "id": "10911ee3",
   "metadata": {},
   "outputs": [],
   "source": [
    "#X, y = df['Text'].values, df['Groom'].values\n",
    "X_train, X_test, y_train, y_test = train_test_split(X, y, test_size=0.30, random_state=42)"
   ]
  },
  {
   "cell_type": "markdown",
   "id": "41bef016",
   "metadata": {},
   "source": [
    "## Determinar parámetros para el clasificador ##"
   ]
  },
  {
   "cell_type": "code",
   "execution_count": 83,
   "id": "78a95291",
   "metadata": {},
   "outputs": [
    {
     "data": {
      "text/plain": [
       "13508"
      ]
     },
     "execution_count": 83,
     "metadata": {},
     "output_type": "execute_result"
    }
   ],
   "source": [
    "vect = TF_IDF.fit_transform(X_train,y_train)\n",
    "len(vect.toarray())"
   ]
  },
  {
   "cell_type": "code",
   "execution_count": 84,
   "id": "46e436c7",
   "metadata": {},
   "outputs": [
    {
     "data": {
      "text/plain": [
       "13508"
      ]
     },
     "execution_count": 84,
     "metadata": {},
     "output_type": "execute_result"
    }
   ],
   "source": [
    "best = KChi.fit_transform(vect, y_train)\n",
    "len(best.toarray())"
   ]
  },
  {
   "cell_type": "code",
   "execution_count": 10,
   "id": "2dea342a",
   "metadata": {},
   "outputs": [],
   "source": [
    "from sklearn.model_selection import GridSearchCV\n",
    "from sklearn.pipeline import make_pipeline, Pipeline\n",
    "from sklearn.preprocessing import StandardScaler"
   ]
  },
  {
   "cell_type": "markdown",
   "id": "24f74d02",
   "metadata": {},
   "source": [
    "## Pasar los datos al clasificador ##"
   ]
  },
  {
   "cell_type": "code",
   "execution_count": 11,
   "id": "61feb9f4",
   "metadata": {},
   "outputs": [],
   "source": [
    "from sklearn.naive_bayes import MultinomialNB # Clasificador de Naive Bayes\n",
    "from sklearn.svm import SVC # Clasificador de Suport Vector Machine\n",
    "from sklearn.ensemble import RandomForestClassifier # Clasificador de Bosques Aleatorios"
   ]
  },
  {
   "cell_type": "code",
   "execution_count": 12,
   "id": "e7af070a",
   "metadata": {},
   "outputs": [],
   "source": [
    "#params = {'n_grams': [(1,2), (2,3)]}\n",
    "#X_vect = TF_IDF.fit_transform(X_train)\n",
    "#X_new = SelectKBest(chi2, k=20).fit_transform(X_vect, y_train)\n",
    "modelMNB = make_pipeline(TfidfVectorizer(ngram_range=(1,2)), MultinomialNB())\n",
    "#grid = GridSearchCV(pipe_MNB, params, cv=5, scoring='accuracy')\n",
    "modelSVM = make_pipeline(TfidfVectorizer(ngram_range=(1,2)), SVC(probability=True))\n",
    "modelRFC = make_pipeline(TfidfVectorizer(ngram_range=(1,2)), RandomForestClassifier())"
   ]
  },
  {
   "cell_type": "code",
   "execution_count": 40,
   "id": "524bf4b9",
   "metadata": {},
   "outputs": [],
   "source": [
    "#TF_IDF.fit_transform(X_train)"
   ]
  },
  {
   "cell_type": "code",
   "execution_count": 13,
   "id": "409ab145",
   "metadata": {},
   "outputs": [
    {
     "name": "stdout",
     "output_type": "stream",
     "text": [
      "261 ms ± 29.8 ms per loop (mean ± std. dev. of 7 runs, 1 loop each)\n"
     ]
    }
   ],
   "source": [
    "%timeit modelMNB.fit(X_train, y_train)"
   ]
  },
  {
   "cell_type": "code",
   "execution_count": 14,
   "id": "6102b2e4",
   "metadata": {},
   "outputs": [
    {
     "name": "stdout",
     "output_type": "stream",
     "text": [
      "54.9 s ± 4.61 s per loop (mean ± std. dev. of 7 runs, 1 loop each)\n"
     ]
    }
   ],
   "source": [
    "%timeit modelSVM.fit(X_train, y_train)"
   ]
  },
  {
   "cell_type": "code",
   "execution_count": 15,
   "id": "e8adb011",
   "metadata": {},
   "outputs": [
    {
     "name": "stdout",
     "output_type": "stream",
     "text": [
      "20.8 s ± 2.76 s per loop (mean ± std. dev. of 7 runs, 1 loop each)\n"
     ]
    }
   ],
   "source": [
    "%timeit modelRFC.fit(X_train, y_train)"
   ]
  },
  {
   "cell_type": "code",
   "execution_count": 16,
   "id": "d5e82e4b",
   "metadata": {},
   "outputs": [
    {
     "data": {
      "text/plain": [
       "0.8758868496829887"
      ]
     },
     "execution_count": 16,
     "metadata": {},
     "output_type": "execute_result"
    }
   ],
   "source": [
    "#X_tvect = TF_IDF.transform(X_test)\n",
    "from sklearn.model_selection import cross_val_score\n",
    "\n",
    "cross_val_score(modelMNB, X, y, cv=5, scoring='accuracy').mean()"
   ]
  },
  {
   "cell_type": "code",
   "execution_count": 20,
   "id": "dc4ffbf3",
   "metadata": {},
   "outputs": [
    {
     "name": "stdout",
     "output_type": "stream",
     "text": [
      "0.8828206279999999\n"
     ]
    }
   ],
   "source": [
    "cross_val_score(modelSVM, X, y, cv=5, scoring='accuracy').mean()"
   ]
  },
  {
   "cell_type": "code",
   "execution_count": 21,
   "id": "ebf55ff2",
   "metadata": {},
   "outputs": [
    {
     "data": {
      "text/plain": [
       "0.8699511697876312"
      ]
     },
     "execution_count": 21,
     "metadata": {},
     "output_type": "execute_result"
    }
   ],
   "source": [
    "cross_val_score(modelRFC, X, y, cv=5, scoring='accuracy').mean()"
   ]
  },
  {
   "cell_type": "code",
   "execution_count": 191,
   "id": "3503357b",
   "metadata": {},
   "outputs": [
    {
     "data": {
      "text/plain": [
       "array([0, 0, 0, ..., 0, 0, 0])"
      ]
     },
     "execution_count": 191,
     "metadata": {},
     "output_type": "execute_result"
    }
   ],
   "source": [
    "from sklearn.model_selection import cross_val_predict\n",
    "\n",
    "cross_val_predict(modelMNB, X_train, y_train, cv=5)"
   ]
  },
  {
   "cell_type": "code",
   "execution_count": 192,
   "id": "1183fe4c",
   "metadata": {},
   "outputs": [
    {
     "data": {
      "text/plain": [
       "array([0, 0, 0, ..., 0, 0, 0])"
      ]
     },
     "execution_count": 192,
     "metadata": {},
     "output_type": "execute_result"
    }
   ],
   "source": [
    "cross_val_predict(modelSVM, X_train, y_train, cv=5)"
   ]
  },
  {
   "cell_type": "code",
   "execution_count": 193,
   "id": "09ad7e39",
   "metadata": {},
   "outputs": [
    {
     "data": {
      "text/plain": [
       "array([0, 0, 0, ..., 0, 0, 0])"
      ]
     },
     "execution_count": 193,
     "metadata": {},
     "output_type": "execute_result"
    }
   ],
   "source": [
    "cross_val_predict(modelRFC, X_train, y_train, cv=5)"
   ]
  },
  {
   "cell_type": "code",
   "execution_count": 22,
   "id": "3154e887",
   "metadata": {},
   "outputs": [],
   "source": [
    "Y_predMNB = modelMNB.predict(X_test)"
   ]
  },
  {
   "cell_type": "code",
   "execution_count": 23,
   "id": "7fb779c4",
   "metadata": {},
   "outputs": [],
   "source": [
    "Y_predSVM = modelSVM.predict(X_test)"
   ]
  },
  {
   "cell_type": "code",
   "execution_count": 24,
   "id": "fbb630eb",
   "metadata": {},
   "outputs": [],
   "source": [
    "Y_predRFC = modelRFC.predict(X_test)"
   ]
  },
  {
   "cell_type": "markdown",
   "id": "aa9105c1",
   "metadata": {},
   "source": [
    "## Evaluar el modelo\n",
    "\n",
    "### Matriz de confisuión\n",
    "Las filas de la matriz indican la clase real y las columnas las clases predichas.\n",
    "La matriz de confusión en si misma no es una medida de rendimiento, pero casi todas la métricas se basan en ellas.\n",
    "1. **Verdaderos positivos:** Son los casos donde los datos reales son 1 y la predicción es 1\n",
    "2. **Verdaderos negativos:** Son los casos donde los datos reales son 0 y la predicción es 0\n",
    "3. **Falsos positivos:** Son los casos donde los datos reales son 0 y la predicción es 1\n",
    "4. **Falsos negativos:** Son los casos donde los datos reales son 1 y la predicción es 0\n",
    "\n",
    "### Métricas de evaluación\n",
    "\n",
    "1. **Exacitud:** Es el número de predicciones correctas realizadas por el modelo por el número total de registros\n",
    "2. **Precisión:** Evalua los datos por su desempeño de predicciones positivas\n",
    "3. **Sensibilidad o Recall:** Se calcula como el número de predicciones positivas correctas dividido por el número total de positivos\n",
    "4. **Especificidad:** Se calcula como el número de predicciones negativas correctas dividido por el número total de negativos\n",
    "5. **Puntaje F1:** Es el promedio ponderado de precisión y sensibilidad\n",
    "\n",
    "### Curva ROC y Área Bajo la Curva (AUC)\n",
    "\n",
    "1. **Características del funcionamiento del receptor (ROC):** Nos dice que tan bien puede distinguir el modelo entre dos clases\n",
    "2. **Área bajo la curva (AUC):** Nos dice que tan bien funciona el modelo"
   ]
  },
  {
   "cell_type": "raw",
   "id": "67b68b0a",
   "metadata": {},
   "source": [
    "Matriz de error o confusión:\n",
    "___________\n",
    "|    |    |    Exactitud = VP + VN / Total\n",
    "| VP | FP |    Precisión = VP / VP + FP\n",
    "|----|----|    recuerdo = VP / VP + FN\n",
    "| FN | VN |    sensibilidad = recuerdo\n",
    "|____|____|    espicificidad = VN / VN + FP\n",
    "\n",
    "Puntuación F1:\n",
    "F1 = (2*precision*recuerdo)/(precision+recuerdo)"
   ]
  },
  {
   "cell_type": "code",
   "execution_count": 25,
   "id": "039fba9d",
   "metadata": {},
   "outputs": [],
   "source": [
    "from sklearn.metrics import *"
   ]
  },
  {
   "cell_type": "code",
   "execution_count": 26,
   "id": "11e869e5",
   "metadata": {},
   "outputs": [],
   "source": [
    "%matplotlib inline\n",
    "import matplotlib.pyplot as plt"
   ]
  },
  {
   "cell_type": "code",
   "execution_count": 27,
   "id": "864a9a7e",
   "metadata": {},
   "outputs": [
    {
     "data": {
      "image/png": "[encoded data removed]",
      "text/plain": [
       "<Figure size 432x288 with 2 Axes>"
      ]
     },
     "metadata": {
      "needs_background": "light"
     },
     "output_type": "display_data"
    }
   ],
   "source": [
    "confusion_matrix(y_test, Y_predMNB)\n",
    "plot_confusion_matrix(modelMNB, X_test, y_test, cmap=plt.cm.binary)\n",
    "plt.show()"
   ]
  },
  {
   "cell_type": "code",
   "execution_count": 28,
   "id": "7f47f832",
   "metadata": {},
   "outputs": [
    {
     "data": {
      "image/png": "[encoded data removed]",
      "text/plain": [
       "<Figure size 432x288 with 2 Axes>"
      ]
     },
     "metadata": {
      "needs_background": "light"
     },
     "output_type": "display_data"
    }
   ],
   "source": [
    "confusion_matrix(y_test, Y_predSVM)\n",
    "plot_confusion_matrix(modelSVM, X_test, y_test, cmap=plt.cm.binary)\n",
    "plt.show()"
   ]
  },
  {
   "cell_type": "code",
   "execution_count": 29,
   "id": "a721cc53",
   "metadata": {},
   "outputs": [
    {
     "data": {
      "image/png": "[encoded data removed]",
      "text/plain": [
       "<Figure size 432x288 with 2 Axes>"
      ]
     },
     "metadata": {
      "needs_background": "light"
     },
     "output_type": "display_data"
    }
   ],
   "source": [
    "confusion_matrix(y_test, Y_predRFC)\n",
    "plot_confusion_matrix(modelRFC, X_test, y_test, cmap=plt.cm.binary)\n",
    "plt.show()"
   ]
  },
  {
   "cell_type": "code",
   "execution_count": 30,
   "id": "396f32a7",
   "metadata": {},
   "outputs": [
    {
     "name": "stdout",
     "output_type": "stream",
     "text": [
      "              precision    recall  f1-score   support\n",
      "\n",
      "           0       0.89      0.91      0.90      2904\n",
      "           1       0.88      0.85      0.86      2202\n",
      "\n",
      "    accuracy                           0.88      5106\n",
      "   macro avg       0.88      0.88      0.88      5106\n",
      "weighted avg       0.88      0.88      0.88      5106\n",
      "\n"
     ]
    }
   ],
   "source": [
    "print(classification_report(y_test, Y_predMNB)) # Reporte Clasificador Naive Bayes"
   ]
  },
  {
   "cell_type": "code",
   "execution_count": 31,
   "id": "44754494",
   "metadata": {},
   "outputs": [
    {
     "name": "stdout",
     "output_type": "stream",
     "text": [
      "              precision    recall  f1-score   support\n",
      "\n",
      "           0       0.88      0.94      0.91      2904\n",
      "           1       0.91      0.83      0.86      2202\n",
      "\n",
      "    accuracy                           0.89      5106\n",
      "   macro avg       0.89      0.88      0.88      5106\n",
      "weighted avg       0.89      0.89      0.89      5106\n",
      "\n"
     ]
    }
   ],
   "source": [
    "print(classification_report(y_test, Y_predSVM)) # Reporte Clasificador SVM"
   ]
  },
  {
   "cell_type": "code",
   "execution_count": 32,
   "id": "1246051d",
   "metadata": {},
   "outputs": [
    {
     "name": "stdout",
     "output_type": "stream",
     "text": [
      "              precision    recall  f1-score   support\n",
      "\n",
      "           0       0.87      0.93      0.90      2904\n",
      "           1       0.90      0.81      0.85      2202\n",
      "\n",
      "    accuracy                           0.88      5106\n",
      "   macro avg       0.88      0.87      0.87      5106\n",
      "weighted avg       0.88      0.88      0.88      5106\n",
      "\n"
     ]
    }
   ],
   "source": [
    "print(classification_report(y_test, Y_predRFC)) # Reporte Clasificador Random Forest"
   ]
  },
  {
   "cell_type": "code",
   "execution_count": 33,
   "id": "1f4a531c",
   "metadata": {},
   "outputs": [
    {
     "name": "stdout",
     "output_type": "stream",
     "text": [
      "Error absoluto medio [NB]: 11.71%\n",
      "Puntaje R^2 [NB]: 52.25%\n"
     ]
    }
   ],
   "source": [
    "print(f\"Error absoluto medio [NB]: {(mean_absolute_error(y_test.astype('int'), Y_predMNB.astype('int'))*100).round(2)}%\")\n",
    "print(f\"Puntaje R^2 [NB]: {(r2_score(y_test.astype('int'), Y_predMNB.astype('int'))*100).round(2)}%\")"
   ]
  },
  {
   "cell_type": "code",
   "execution_count": 34,
   "id": "df6b1dc9",
   "metadata": {},
   "outputs": [
    {
     "name": "stdout",
     "output_type": "stream",
     "text": [
      "Error absoluto medio [SVM]: 11.16%\n",
      "Puntaje R^2 [SVM]: 54.49%\n"
     ]
    }
   ],
   "source": [
    "print(f\"Error absoluto medio [SVM]: {(mean_absolute_error(y_test.astype('int'), Y_predSVM.astype('int'))*100).round(2)}%\")\n",
    "print(f\"Puntaje R^2 [SVM]: {(r2_score(y_test.astype('int'), Y_predSVM.astype('int'))*100).round(2)}%\")"
   ]
  },
  {
   "cell_type": "code",
   "execution_count": 35,
   "id": "aee3c58d",
   "metadata": {},
   "outputs": [
    {
     "name": "stdout",
     "output_type": "stream",
     "text": [
      "Error absoluto medio [RFC]: 12.26%\n",
      "Puntaje R^2 [RFC]: 50.01%\n"
     ]
    }
   ],
   "source": [
    "print(f\"Error absoluto medio [RFC]: {(mean_absolute_error(y_test.astype('int'), Y_predRFC.astype('int'))*100).round(2)}%\")\n",
    "print(f\"Puntaje R^2 [RFC]: {(r2_score(y_test.astype('int'), Y_predRFC.astype('int'))*100).round(2)}%\")"
   ]
  },
  {
   "cell_type": "code",
   "execution_count": 36,
   "id": "8c9a5adf",
   "metadata": {},
   "outputs": [
    {
     "name": "stdout",
     "output_type": "stream",
     "text": [
      "Conjunto de datos: (17017, 3) (17017,)\n",
      "Conjunto de entrenamiento: (11911,) (11911,)\n",
      "Conjunto de prueba: (5106,) (5106,)\n"
     ]
    }
   ],
   "source": [
    "print(\"Conjunto de datos:\", df.shape, df['Groom'].shape)\n",
    "print(\"Conjunto de entrenamiento:\", X_train.shape, y_train.shape)\n",
    "print(\"Conjunto de prueba:\", X_test.shape, y_test.shape)"
   ]
  },
  {
   "cell_type": "code",
   "execution_count": 37,
   "id": "95b97681",
   "metadata": {},
   "outputs": [
    {
     "name": "stdout",
     "output_type": "stream",
     "text": [
      "Métricas de evaluación del modelo Naive Bayes:\n",
      "\n",
      "Exactitud: 88.29%\n",
      "Precisión: 87.69%\n",
      "Recuerdo: 84.74%\n",
      "Puntuación F1: 86.19%\n",
      "Sensibilidad: 84.74%\n",
      "Perdida de clasificación: 11.71%\n"
     ]
    }
   ],
   "source": [
    "print(\"Métricas de evaluación del modelo Naive Bayes:\\n\")\n",
    "print(f\"Exactitud: {(accuracy_score(y_test, Y_predMNB)*100).round(2)}%\")\n",
    "print(f\"Precisión: {(precision_score(y_test, Y_predMNB)*100).round(2)}%\")\n",
    "print(f\"Recuerdo: {(recall_score(y_test, Y_predMNB)*100).round(2)}%\")\n",
    "print(f\"Puntuación F1: {(f1_score(y_test, Y_predMNB)*100).round(2)}%\")\n",
    "print(f\"Sensibilidad: {(recall_score(y_test, Y_predMNB)*100).round(2)}%\")\n",
    "#print(f\"Precision de clasificacion top: {(top_k_accuracy_score(y_test, y_pred_probMNB, k=2)*100).round(2)}%\")\n",
    "print(f\"Perdida de clasificación: {(zero_one_loss(y_test, Y_predMNB)*100).round(2)}%\")"
   ]
  },
  {
   "cell_type": "code",
   "execution_count": 38,
   "id": "a46f353e",
   "metadata": {},
   "outputs": [
    {
     "name": "stdout",
     "output_type": "stream",
     "text": [
      "Métricas de evaluación del modelo Suport Vector Machine:\n",
      "\n",
      "Exactitud: 88.84%\n",
      "Precisión: 90.72%\n",
      "Recuerdo: 82.56%\n",
      "Puntuación F1: 86.45%\n",
      "Sensibilidad: 82.56%\n",
      "Perdida de clasificación: 11.16%\n"
     ]
    }
   ],
   "source": [
    "print(\"Métricas de evaluación del modelo Suport Vector Machine:\\n\")\n",
    "print(f\"Exactitud: {(accuracy_score(y_test, Y_predSVM)*100).round(2)}%\")\n",
    "print(f\"Precisión: {(precision_score(y_test, Y_predSVM)*100).round(2)}%\")\n",
    "print(f\"Recuerdo: {(recall_score(y_test, Y_predSVM)*100).round(2)}%\")\n",
    "print(f\"Puntuación F1: {(f1_score(y_test, Y_predSVM)*100).round(2)}%\")\n",
    "print(f\"Sensibilidad: {(recall_score(y_test, Y_predSVM)*100).round(2)}%\")\n",
    "#print(f\"Precision de clasificacion top: {(top_k_accuracy_score(y_test, y_pred_probSVM, k=2)*100).round(2)}%\")\n",
    "print(f\"Perdida de clasificación: {(zero_one_loss(y_test, Y_predSVM)*100).round(2)}%\")"
   ]
  },
  {
   "cell_type": "code",
   "execution_count": 39,
   "id": "2e9a78ec",
   "metadata": {},
   "outputs": [
    {
     "name": "stdout",
     "output_type": "stream",
     "text": [
      "Métricas de evaluación del modelo Random Forest:\n",
      "\n",
      "Exactitud: 87.74%\n",
      "Precisión: 89.56%\n",
      "Recuerdo: 81.02%\n",
      "Puntuación F1: 85.07%\n",
      "Sensibilidad: 81.02%\n",
      "Perdida de clasificación: 12.26%\n"
     ]
    }
   ],
   "source": [
    "print(\"Métricas de evaluación del modelo Random Forest:\\n\")\n",
    "print(f\"Exactitud: {(accuracy_score(y_test, Y_predRFC)*100).round(2)}%\")\n",
    "print(f\"Precisión: {(precision_score(y_test, Y_predRFC)*100).round(2)}%\")\n",
    "print(f\"Recuerdo: {(recall_score(y_test, Y_predRFC)*100).round(2)}%\")\n",
    "print(f\"Puntuación F1: {(f1_score(y_test, Y_predRFC)*100).round(2)}%\")\n",
    "print(f\"Sensibilidad: {(recall_score(y_test, Y_predRFC)*100).round(2)}%\")\n",
    "#print(f\"Precision de clasificacion top: {(top_k_accuracy_score(y_test, y_pred_probMNB, k=2)*100).round(2)}%\")\n",
    "print(f\"Perdida de clasificación: {(zero_one_loss(y_test, Y_predRFC)*100).round(2)}%\")"
   ]
  },
  {
   "cell_type": "code",
   "execution_count": 41,
   "id": "9f9c92dd",
   "metadata": {},
   "outputs": [],
   "source": [
    "y_pred_probMNB = modelMNB.predict_proba(X_test)[:,1]"
   ]
  },
  {
   "cell_type": "code",
   "execution_count": 42,
   "id": "55e36960",
   "metadata": {},
   "outputs": [],
   "source": [
    "y_pred_probSVM = modelSVM.predict_proba(X_test)[:,1]"
   ]
  },
  {
   "cell_type": "code",
   "execution_count": 43,
   "id": "5c166422",
   "metadata": {},
   "outputs": [],
   "source": [
    "y_pred_probRFC = modelRFC.predict_proba(X_test)[:,1]"
   ]
  },
  {
   "cell_type": "code",
   "execution_count": 44,
   "id": "1134374d",
   "metadata": {},
   "outputs": [
    {
     "name": "stdout",
     "output_type": "stream",
     "text": [
      "Puntaje AUC [NB]: 94.78%\n"
     ]
    },
    {
     "data": {
      "image/png": "[encoded data removed]",
      "text/plain": [
       "<Figure size 432x288 with 1 Axes>"
      ]
     },
     "metadata": {
      "needs_background": "light"
     },
     "output_type": "display_data"
    }
   ],
   "source": [
    "print(f\"Puntaje AUC [NB]: {((roc_auc_score(y_test, y_pred_probMNB))*100).round(2)}%\")\n",
    "plot_roc_curve(modelMNB, X_test, y_test)\n",
    "plt.title('Naive Bayes')\n",
    "plt.show()"
   ]
  },
  {
   "cell_type": "code",
   "execution_count": 45,
   "id": "92df6588",
   "metadata": {},
   "outputs": [
    {
     "name": "stdout",
     "output_type": "stream",
     "text": [
      "Puntaje AUC [SVM]: 93.28%\n"
     ]
    },
    {
     "data": {
      "image/png": "[encoded data removed]",
      "text/plain": [
       "<Figure size 432x288 with 1 Axes>"
      ]
     },
     "metadata": {
      "needs_background": "light"
     },
     "output_type": "display_data"
    }
   ],
   "source": [
    "print(f\"Puntaje AUC [SVM]: {((roc_auc_score(y_test, y_pred_probSVM))*100).round(2)}%\")\n",
    "plot_roc_curve(modelSVM, X_test, y_test)\n",
    "plt.title('SVM')\n",
    "plt.show()"
   ]
  },
  {
   "cell_type": "code",
   "execution_count": 46,
   "id": "c76a6b80",
   "metadata": {},
   "outputs": [
    {
     "name": "stdout",
     "output_type": "stream",
     "text": [
      "Puntaje AUC [RF]: 93.64%\n"
     ]
    },
    {
     "data": {
      "image/png": "[encoded data removed]",
      "text/plain": [
       "<Figure size 432x288 with 1 Axes>"
      ]
     },
     "metadata": {
      "needs_background": "light"
     },
     "output_type": "display_data"
    }
   ],
   "source": [
    "print(f\"Puntaje AUC [RF]: {((roc_auc_score(y_test, y_pred_probRFC))*100).round(2)}%\")\n",
    "plot_roc_curve(modelRFC, X_test, y_test)\n",
    "plt.title('Random Forest')\n",
    "plt.show()"
   ]
  },
  {
   "cell_type": "markdown",
   "id": "a9fb9046",
   "metadata": {},
   "source": [
    "## Probar los modelos"
   ]
  },
  {
   "cell_type": "code",
   "execution_count": 47,
   "id": "75a93fda",
   "metadata": {},
   "outputs": [
    {
     "name": "stdout",
     "output_type": "stream",
     "text": [
      "El algoritmo Naive Bayes clasifica el mensaje como: 1 con una confianza del 0.1456% para NoGroomer y 0.8544% para Groomer\n"
     ]
    }
   ],
   "source": [
    "msg_prob = modelMNB.predict_proba([\"i unchap your brassiere and let it fall to the floor\"])\n",
    "msg_pred = modelMNB.predict([\"i unchap your brassiere and let it fall to the floor\"])\n",
    "print(f\"El algoritmo Naive Bayes clasifica el mensaje como: {msg_pred[0]} con una confianza del {msg_prob[0][0]:.4f}% para NoGroomer y {msg_prob[0][1]:.4f}% para Groomer\")"
   ]
  },
  {
   "cell_type": "code",
   "execution_count": 48,
   "id": "03212546",
   "metadata": {},
   "outputs": [
    {
     "name": "stdout",
     "output_type": "stream",
     "text": [
      "El algoritmo SVM clasifica el mensaje como: 1 con una confianza del 0.0120% para NoGroomer y 0.9880% para Groomer\n"
     ]
    }
   ],
   "source": [
    "msg_prob = modelSVM.predict_proba([\"i unchap your brassiere and let it fall to the floor\"])\n",
    "msg_pred = modelSVM.predict([\"i unchap your brassiere and let it fall to the floor\"])\n",
    "print(f\"El algoritmo SVM clasifica el mensaje como: {msg_pred[0]} con una confianza del {msg_prob[0][0]:.4f}% para NoGroomer y {msg_prob[0][1]:.4f}% para Groomer\")"
   ]
  },
  {
   "cell_type": "code",
   "execution_count": 49,
   "id": "e4c362a6",
   "metadata": {},
   "outputs": [
    {
     "name": "stdout",
     "output_type": "stream",
     "text": [
      "El algoritmo Random Forest clasifica el mensaje como: 1 con una confianza del 0.2900% para NoGroomer y 0.7100% para Groomer\n"
     ]
    }
   ],
   "source": [
    "msg_prob = modelRFC.predict_proba([\"i unchap your brassiere and let it fall to the floor\"])\n",
    "msg_pred = modelRFC.predict([\"i unchap your brassiere and let it fall to the floor\"])\n",
    "print(f\"El algoritmo Random Forest clasifica el mensaje como: {msg_pred[0]} con una confianza del {msg_prob[0][0]:.4f}% para NoGroomer y {msg_prob[0][1]:.4f}% para Groomer\")"
   ]
  },
  {
   "cell_type": "code",
   "execution_count": 50,
   "id": "14b93ec5",
   "metadata": {},
   "outputs": [],
   "source": [
    "from win10toast import ToastNotifier\n",
    "toast = ToastNotifier()"
   ]
  },
  {
   "cell_type": "code",
   "execution_count": 51,
   "id": "83e2f350",
   "metadata": {},
   "outputs": [],
   "source": [
    "def groom_classifier(*msg, model):\n",
    "    msg_pred = model.predict(msg)\n",
    "    if msg_pred*100 > 80:\n",
    "        toast.show_toast(\"Alert\", \"Grooming content in chat!\", duration=5)\n",
    "        #print(\"Grooming content in chat!\")\n",
    "    else:\n",
    "        print(\"None\")"
   ]
  },
  {
   "cell_type": "code",
   "execution_count": 52,
   "id": "1759455d",
   "metadata": {},
   "outputs": [],
   "source": [
    "groom_classifier(\"Send me a pic of your homework please\", model=modelMNB)"
   ]
  },
  {
   "cell_type": "code",
   "execution_count": 53,
   "id": "2e2515cc",
   "metadata": {},
   "outputs": [],
   "source": [
    "groom_classifier(\"Send me a pic of your homework please\", model=modelSVM)"
   ]
  },
  {
   "cell_type": "code",
   "execution_count": 54,
   "id": "6f0a8c8f",
   "metadata": {},
   "outputs": [],
   "source": [
    "groom_classifier(\"Send me a pic of your homework please\", model=modelRFC)"
   ]
  },
  {
   "cell_type": "code",
   "execution_count": 61,
   "id": "5f762484",
   "metadata": {},
   "outputs": [],
   "source": [
    "#!jupyter nbconvert --to webpdf --allow-chromium-download TestClassifiers.ipynb"
   ]
  },
  {
   "cell_type": "code",
   "execution_count": 56,
   "id": "80fc6584",
   "metadata": {},
   "outputs": [
    {
     "data": {
      "text/plain": [
       "['GroomerClassifier.pkl']"
      ]
     },
     "execution_count": 56,
     "metadata": {},
     "output_type": "execute_result"
    }
   ],
   "source": [
    "import joblib\n",
    "joblib.dump(modelSVM, 'GroomerClassifier.pkl')"
   ]
  },
  {
   "cell_type": "code",
   "execution_count": 60,
   "id": "5304340b",
   "metadata": {},
   "outputs": [],
   "source": [
    "clf = joblib.load('GroomerClassifier.pkl')"
   ]
  },
  {
   "cell_type": "code",
   "execution_count": 63,
   "id": "511f0262",
   "metadata": {},
   "outputs": [
    {
     "data": {
      "text/plain": [
       "array([0])"
      ]
     },
     "execution_count": 63,
     "metadata": {},
     "output_type": "execute_result"
    }
   ],
   "source": [
    "clf.predict(['We will pass the semester'])"
   ]
  },
  {
   "cell_type": "code",
   "execution_count": null,
   "id": "721ff419",
   "metadata": {},
   "outputs": [],
   "source": []
  }
 ],
 "metadata": {
  "kernelspec": {
   "display_name": "Python 3",
   "language": "python",
   "name": "python3"
  },
  "language_info": {
   "codemirror_mode": {
    "name": "ipython",
    "version": 3
   },
   "file_extension": ".py",
   "mimetype": "text/x-python",
   "name": "python",
   "nbconvert_exporter": "python",
   "pygments_lexer": "ipython3",
   "version": "3.7.10"
  }
 },
 "nbformat": 4,
 "nbformat_minor": 5
}
