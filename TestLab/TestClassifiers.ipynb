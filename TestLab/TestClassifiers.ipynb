{
 "cells": [
  {
   "cell_type": "markdown",
   "id": "d426f8fa",
   "metadata": {},
   "source": [
    "![metodology](https://www.muycomputerpro.com/wp-content/uploads/2019/03/machine_learning_train.jpeg)"
   ]
  },
  {
   "cell_type": "markdown",
   "id": "79d3f469",
   "metadata": {},
   "source": [
    "## Cargar el Dataset"
   ]
  },
  {
   "cell_type": "code",
   "execution_count": 1,
   "id": "1e1b14d4",
   "metadata": {},
   "outputs": [],
   "source": [
    "import pandas as pd"
   ]
  },
  {
   "cell_type": "code",
   "execution_count": 2,
   "id": "fba860d9",
   "metadata": {},
   "outputs": [
    {
     "name": "stdout",
     "output_type": "stream",
     "text": [
      "<class 'pandas.core.frame.DataFrame'>\n",
      "RangeIndex: 9075 entries, 0 to 9074\n",
      "Data columns (total 3 columns):\n",
      " #   Column  Non-Null Count  Dtype \n",
      "---  ------  --------------  ----- \n",
      " 0   User    9075 non-null   object\n",
      " 1   Text    9075 non-null   object\n",
      " 2   Groom   9075 non-null   bool  \n",
      "dtypes: bool(1), object(2)\n",
      "memory usage: 150.8+ KB\n"
     ]
    },
    {
     "data": {
      "text/plain": [
       "True     5008\n",
       "False    4067\n",
       "Name: Groom, dtype: int64"
      ]
     },
     "execution_count": 2,
     "metadata": {},
     "output_type": "execute_result"
    }
   ],
   "source": [
    "df = pd.read_csv(\"./Dataset/charlie_e44.csv\")\n",
    "df.info()\n",
    "df.Groom.value_counts()"
   ]
  },
  {
   "cell_type": "code",
   "execution_count": 3,
   "id": "d595f6eb",
   "metadata": {},
   "outputs": [
    {
     "data": {
      "text/html": [
       "<div>\n",
       "<style scoped>\n",
       "    .dataframe tbody tr th:only-of-type {\n",
       "        vertical-align: middle;\n",
       "    }\n",
       "\n",
       "    .dataframe tbody tr th {\n",
       "        vertical-align: top;\n",
       "    }\n",
       "\n",
       "    .dataframe thead th {\n",
       "        text-align: right;\n",
       "    }\n",
       "</style>\n",
       "<table border=\"1\" class=\"dataframe\">\n",
       "  <thead>\n",
       "    <tr style=\"text-align: right;\">\n",
       "      <th></th>\n",
       "      <th>User</th>\n",
       "      <th>Text</th>\n",
       "      <th>Groom</th>\n",
       "    </tr>\n",
       "  </thead>\n",
       "  <tbody>\n",
       "    <tr>\n",
       "      <th>0</th>\n",
       "      <td>charlie_e44</td>\n",
       "      <td>hi</td>\n",
       "      <td>True</td>\n",
       "    </tr>\n",
       "    <tr>\n",
       "      <th>1</th>\n",
       "      <td>charlie_e44</td>\n",
       "      <td>oipps sorry wrong person</td>\n",
       "      <td>True</td>\n",
       "    </tr>\n",
       "    <tr>\n",
       "      <th>2</th>\n",
       "      <td>bethaneyizbored</td>\n",
       "      <td>okie dokie</td>\n",
       "      <td>False</td>\n",
       "    </tr>\n",
       "    <tr>\n",
       "      <th>3</th>\n",
       "      <td>charlie_e44</td>\n",
       "      <td>lol cool</td>\n",
       "      <td>True</td>\n",
       "    </tr>\n",
       "    <tr>\n",
       "      <th>4</th>\n",
       "      <td>charlie_e44</td>\n",
       "      <td>just bord rite</td>\n",
       "      <td>True</td>\n",
       "    </tr>\n",
       "    <tr>\n",
       "      <th>...</th>\n",
       "      <td>...</td>\n",
       "      <td>...</td>\n",
       "      <td>...</td>\n",
       "    </tr>\n",
       "    <tr>\n",
       "      <th>9070</th>\n",
       "      <td>bethaneyizbored</td>\n",
       "      <td>tahts not far from me cuz we live on a circle ...</td>\n",
       "      <td>False</td>\n",
       "    </tr>\n",
       "    <tr>\n",
       "      <th>9071</th>\n",
       "      <td>bethaneyizbored</td>\n",
       "      <td>i see u 2morow</td>\n",
       "      <td>False</td>\n",
       "    </tr>\n",
       "    <tr>\n",
       "      <th>9072</th>\n",
       "      <td>charlie_e44</td>\n",
       "      <td>suped motel i cannot sighn in till 200 and i a...</td>\n",
       "      <td>True</td>\n",
       "    </tr>\n",
       "    <tr>\n",
       "      <th>9073</th>\n",
       "      <td>charlie_e44</td>\n",
       "      <td>if you are not at kfc i am coming back home se...</td>\n",
       "      <td>True</td>\n",
       "    </tr>\n",
       "    <tr>\n",
       "      <th>9074</th>\n",
       "      <td>bethaneyizbored</td>\n",
       "      <td>im bout 2 leave</td>\n",
       "      <td>False</td>\n",
       "    </tr>\n",
       "  </tbody>\n",
       "</table>\n",
       "<p>9075 rows × 3 columns</p>\n",
       "</div>"
      ],
      "text/plain": [
       "                 User                                               Text  \\\n",
       "0         charlie_e44                                                 hi   \n",
       "1         charlie_e44                           oipps sorry wrong person   \n",
       "2     bethaneyizbored                                         okie dokie   \n",
       "3         charlie_e44                                           lol cool   \n",
       "4         charlie_e44                                     just bord rite   \n",
       "...               ...                                                ...   \n",
       "9070  bethaneyizbored  tahts not far from me cuz we live on a circle ...   \n",
       "9071  bethaneyizbored                                     i see u 2morow   \n",
       "9072      charlie_e44  suped motel i cannot sighn in till 200 and i a...   \n",
       "9073      charlie_e44  if you are not at kfc i am coming back home se...   \n",
       "9074  bethaneyizbored                                    im bout 2 leave   \n",
       "\n",
       "      Groom  \n",
       "0      True  \n",
       "1      True  \n",
       "2     False  \n",
       "3      True  \n",
       "4      True  \n",
       "...     ...  \n",
       "9070  False  \n",
       "9071  False  \n",
       "9072   True  \n",
       "9073   True  \n",
       "9074  False  \n",
       "\n",
       "[9075 rows x 3 columns]"
      ]
     },
     "execution_count": 3,
     "metadata": {},
     "output_type": "execute_result"
    }
   ],
   "source": [
    "df"
   ]
  },
  {
   "cell_type": "markdown",
   "id": "df5f13bb",
   "metadata": {},
   "source": [
    "## Extracción y selección de características del texto\n",
    "Convertir texto en una matriz de tokens contables "
   ]
  },
  {
   "cell_type": "code",
   "execution_count": 4,
   "id": "ed877304",
   "metadata": {},
   "outputs": [],
   "source": [
    "#from sklearn.feature_extraction.text import CountVectorizer\n",
    "from sklearn.feature_extraction.text import TfidfVectorizer\n",
    "#from nltk.corpus import stopwords\n",
    "#from sklearn.feature_selection import SelectKBest, chi2"
   ]
  },
  {
   "cell_type": "code",
   "execution_count": 5,
   "id": "c2e62667",
   "metadata": {},
   "outputs": [],
   "source": [
    "#CV = CountVectorizer()\n",
    "#TF_IDF = TfidfVectorizer(ngram_range=(1,2))\n",
    "#KChi = SelectKBest(chi2, k=10e3)"
   ]
  },
  {
   "cell_type": "markdown",
   "id": "7064faa6",
   "metadata": {},
   "source": [
    "## Dividir el conjunto de datos en entrenamiento y prueba\n",
    "Retenemos algún subconjunto de los datos del entrenamiento del modelo y luego usamos este conjunto de reserva para verificar el rendimiento del modelo"
   ]
  },
  {
   "cell_type": "code",
   "execution_count": 6,
   "id": "e2275014",
   "metadata": {},
   "outputs": [],
   "source": [
    "from sklearn.model_selection import train_test_split"
   ]
  },
  {
   "cell_type": "code",
   "execution_count": 7,
   "id": "10911ee3",
   "metadata": {},
   "outputs": [],
   "source": [
    "X_train, X_test, y_train, y_test = train_test_split(df['Text'], df['Groom'], test_size=0.2, random_state=4)"
   ]
  },
  {
   "cell_type": "markdown",
   "id": "41bef016",
   "metadata": {},
   "source": [
    "## Determinar parámetros para el clasificador ##"
   ]
  },
  {
   "cell_type": "code",
   "execution_count": 8,
   "id": "2dea342a",
   "metadata": {},
   "outputs": [],
   "source": [
    "#from sklearn.model_selection import GridSearchCV\n",
    "from sklearn.pipeline import make_pipeline, Pipeline"
   ]
  },
  {
   "cell_type": "markdown",
   "id": "24f74d02",
   "metadata": {},
   "source": [
    "## Pasar los datos al clasificador ##"
   ]
  },
  {
   "cell_type": "code",
   "execution_count": 9,
   "id": "61feb9f4",
   "metadata": {},
   "outputs": [],
   "source": [
    "from sklearn.naive_bayes import ComplementNB # Clasificador de Naive Bayes\n",
    "from sklearn.svm import SVC # Clasificador de Suport Vector Machine\n",
    "from sklearn.ensemble import RandomForestClassifier # Clasificador de Bosques Aleatorios"
   ]
  },
  {
   "cell_type": "code",
   "execution_count": 56,
   "id": "e7af070a",
   "metadata": {},
   "outputs": [],
   "source": [
    "modelMNB = make_pipeline(TfidfVectorizer(ngram_range=(1,2)), ComplementNB())\n",
    "modelSVM = make_pipeline(TfidfVectorizer(ngram_range=(1,2)), SVC(probability=True))\n",
    "modelRFC = make_pipeline(TfidfVectorizer(ngram_range=(1,2)), RandomForestClassifier())"
   ]
  },
  {
   "cell_type": "code",
   "execution_count": 11,
   "id": "524bf4b9",
   "metadata": {},
   "outputs": [],
   "source": [
    "#Y_train = y_train.astype('int')\n",
    "#Y_test = y_test.astype('int')\n",
    "#TF_IDF.fit_transform(X_train)"
   ]
  },
  {
   "cell_type": "code",
   "execution_count": 12,
   "id": "409ab145",
   "metadata": {},
   "outputs": [
    {
     "name": "stdout",
     "output_type": "stream",
     "text": [
      "166 ms ± 15 ms per loop (mean ± std. dev. of 7 runs, 1 loop each)\n"
     ]
    }
   ],
   "source": [
    "%timeit modelMNB.fit(X_train, y_train)"
   ]
  },
  {
   "cell_type": "code",
   "execution_count": 58,
   "id": "6102b2e4",
   "metadata": {},
   "outputs": [
    {
     "name": "stdout",
     "output_type": "stream",
     "text": [
      "17.1 s ± 593 ms per loop (mean ± std. dev. of 7 runs, 1 loop each)\n"
     ]
    }
   ],
   "source": [
    "%timeit modelSVM.fit(X_train, y_train)"
   ]
  },
  {
   "cell_type": "code",
   "execution_count": 14,
   "id": "e8adb011",
   "metadata": {},
   "outputs": [
    {
     "name": "stdout",
     "output_type": "stream",
     "text": [
      "6.89 s ± 453 ms per loop (mean ± std. dev. of 7 runs, 1 loop each)\n"
     ]
    }
   ],
   "source": [
    "%timeit modelRFC.fit(X_train, y_train)"
   ]
  },
  {
   "cell_type": "code",
   "execution_count": 15,
   "id": "dc4ffbf3",
   "metadata": {},
   "outputs": [],
   "source": [
    "Y_predMNB = modelMNB.predict(X_test)"
   ]
  },
  {
   "cell_type": "code",
   "execution_count": 59,
   "id": "3503357b",
   "metadata": {},
   "outputs": [],
   "source": [
    "Y_predSVM = modelSVM.predict(X_test)"
   ]
  },
  {
   "cell_type": "code",
   "execution_count": 17,
   "id": "fbb630eb",
   "metadata": {},
   "outputs": [],
   "source": [
    "Y_predRFC = modelRFC.predict(X_test)"
   ]
  },
  {
   "cell_type": "markdown",
   "id": "aa9105c1",
   "metadata": {},
   "source": [
    "## Evaluar el modelo\n",
    "\n",
    "### Matriz de confisuión\n",
    "Las filas de la matriz indican la clase real y las columnas las clases predichas.\n",
    "La matriz de confusión en si misma no es una medida de rendimiento, pero casi todas la métricas se basan en ellas.\n",
    "1. **Verdaderos positivos:** Son los casos donde los datos reales son 1 y la predicción es 1\n",
    "2. **Verdaderos negativos:** Son los casos donde los datos reales son 0 y la predicción es 0\n",
    "3. **Falsos positivos:** Son los casos donde los datos reales son 0 y la predicción es 1\n",
    "4. **Falsos negativos:** Son los casos donde los datos reales son 1 y la predicción es 0\n",
    "\n",
    "### Métricas de evaluación\n",
    "\n",
    "1. **Exacitud:** Es el número de predicciones correctas realizadas por el modelo por el número total de registros\n",
    "2. **Precisión:** Evalua los datos por su desempeño de predicciones positivas\n",
    "3. **Sensibilidad o Recall:** Se calcula como el número de predicciones positivas correctas dividido por el número total de positivos\n",
    "4. **Especificidad:** Se calcula como el número de predicciones negativas correctas dividido por el número total de negativos\n",
    "5. **Puntaje F1:** Es el promedio ponderado de precisión y sensibilidad\n",
    "\n",
    "### Curva ROC y Área Bajo la Curva (AUC)\n",
    "\n",
    "1. **Características del funcionamiento del receptor (ROC):** Nos dice que tan bien puede distinguir el modelo entre dos clases\n",
    "2. **Área bajo la curva (AUC):** Nos dice que tan bien funciona el modelo"
   ]
  },
  {
   "cell_type": "raw",
   "id": "67b68b0a",
   "metadata": {},
   "source": [
    "Matriz de error o confusión:\n",
    "___________\n",
    "|    |    |    Exactitud = VP + VN / Total\n",
    "| VP | FP |    Precisión = VP / VP + FP\n",
    "|----|----|    recuerdo = VP / VP + FN\n",
    "| FN | VN |    sensibilidad = recuerdo\n",
    "|____|____|    espicificidad = VN / VN + FP\n",
    "\n",
    "Puntuación F1:\n",
    "F1 = (2*precision*recuerdo)/(precision+recuerdo)"
   ]
  },
  {
   "cell_type": "code",
   "execution_count": 18,
   "id": "039fba9d",
   "metadata": {},
   "outputs": [],
   "source": [
    "from sklearn.metrics import *"
   ]
  },
  {
   "cell_type": "code",
   "execution_count": 19,
   "id": "11e869e5",
   "metadata": {},
   "outputs": [],
   "source": [
    "%matplotlib inline\n",
    "import matplotlib.pyplot as plt"
   ]
  },
  {
   "cell_type": "code",
   "execution_count": 20,
   "id": "864a9a7e",
   "metadata": {},
   "outputs": [
    {
     "data": {
      "image/png": "[encoded data removed]",
      "text/plain": [
       "<Figure size 432x288 with 2 Axes>"
      ]
     },
     "metadata": {
      "needs_background": "light"
     },
     "output_type": "display_data"
    }
   ],
   "source": [
    "confusion_matrix(y_test, Y_predMNB)\n",
    "plot_confusion_matrix(modelMNB, X_test, y_test, cmap=plt.cm.Reds)\n",
    "plt.axis('off')\n",
    "plt.show()"
   ]
  },
  {
   "cell_type": "code",
   "execution_count": 21,
   "id": "7f47f832",
   "metadata": {},
   "outputs": [
    {
     "data": {
      "image/png": "[encoded data removed]",
      "text/plain": [
       "<Figure size 432x288 with 2 Axes>"
      ]
     },
     "metadata": {
      "needs_background": "light"
     },
     "output_type": "display_data"
    }
   ],
   "source": [
    "confusion_matrix(y_test, Y_predSVM)\n",
    "plot_confusion_matrix(modelSVM, X_test, y_test, cmap=plt.cm.Greens)\n",
    "plt.axis('off')\n",
    "plt.show()"
   ]
  },
  {
   "cell_type": "code",
   "execution_count": 23,
   "id": "a721cc53",
   "metadata": {},
   "outputs": [
    {
     "data": {
      "image/png": "[encoded data removed]",
      "text/plain": [
       "<Figure size 432x288 with 2 Axes>"
      ]
     },
     "metadata": {
      "needs_background": "light"
     },
     "output_type": "display_data"
    }
   ],
   "source": [
    "confusion_matrix(y_test, Y_predRFC)\n",
    "plot_confusion_matrix(modelRFC, X_test, y_test, cmap=plt.cm.Blues)\n",
    "plt.axis('off')\n",
    "plt.show()"
   ]
  },
  {
   "cell_type": "code",
   "execution_count": 24,
   "id": "396f32a7",
   "metadata": {},
   "outputs": [
    {
     "name": "stdout",
     "output_type": "stream",
     "text": [
      "              precision    recall  f1-score   support\n",
      "\n",
      "       False       0.93      0.92      0.93       788\n",
      "        True       0.94      0.95      0.94      1027\n",
      "\n",
      "    accuracy                           0.94      1815\n",
      "   macro avg       0.94      0.93      0.94      1815\n",
      "weighted avg       0.94      0.94      0.94      1815\n",
      "\n"
     ]
    }
   ],
   "source": [
    "print(classification_report(y_test, Y_predMNB)) # Reporte Clasificador Naive Bayes"
   ]
  },
  {
   "cell_type": "code",
   "execution_count": 25,
   "id": "44754494",
   "metadata": {},
   "outputs": [
    {
     "name": "stdout",
     "output_type": "stream",
     "text": [
      "              precision    recall  f1-score   support\n",
      "\n",
      "       False       0.92      0.94      0.93       788\n",
      "        True       0.96      0.94      0.95      1027\n",
      "\n",
      "    accuracy                           0.94      1815\n",
      "   macro avg       0.94      0.94      0.94      1815\n",
      "weighted avg       0.94      0.94      0.94      1815\n",
      "\n"
     ]
    }
   ],
   "source": [
    "print(classification_report(y_test, Y_predSVM)) # Reporte Clasificador SVM"
   ]
  },
  {
   "cell_type": "code",
   "execution_count": 26,
   "id": "1246051d",
   "metadata": {},
   "outputs": [
    {
     "name": "stdout",
     "output_type": "stream",
     "text": [
      "              precision    recall  f1-score   support\n",
      "\n",
      "       False       0.89      0.94      0.91       788\n",
      "        True       0.95      0.91      0.93      1027\n",
      "\n",
      "    accuracy                           0.92      1815\n",
      "   macro avg       0.92      0.92      0.92      1815\n",
      "weighted avg       0.92      0.92      0.92      1815\n",
      "\n"
     ]
    }
   ],
   "source": [
    "print(classification_report(y_test, Y_predRFC)) # Reporte Clasificador Random Forest"
   ]
  },
  {
   "cell_type": "code",
   "execution_count": 27,
   "id": "1f4a531c",
   "metadata": {},
   "outputs": [
    {
     "name": "stdout",
     "output_type": "stream",
     "text": [
      "Error absoluto medio [NB]: 6.34%\n",
      "Puntaje R^2 [NB]: 74.21%\n"
     ]
    }
   ],
   "source": [
    "print(f\"Error absoluto medio [NB]: {(mean_absolute_error(y_test.astype('int'), Y_predMNB.astype('int'))*100).round(2)}%\")\n",
    "print(f\"Puntaje R^2 [NB]: {(r2_score(y_test.astype('int'), Y_predMNB.astype('int'))*100).round(2)}%\")"
   ]
  },
  {
   "cell_type": "code",
   "execution_count": 28,
   "id": "df6b1dc9",
   "metadata": {},
   "outputs": [
    {
     "name": "stdout",
     "output_type": "stream",
     "text": [
      "Error absoluto medio [SVM]: 6.01%\n",
      "Puntaje R^2 [SVM]: 75.55%\n"
     ]
    }
   ],
   "source": [
    "print(f\"Error absoluto medio [SVM]: {(mean_absolute_error(y_test.astype('int'), Y_predSVM.astype('int'))*100).round(2)}%\")\n",
    "print(f\"Puntaje R^2 [SVM]: {(r2_score(y_test.astype('int'), Y_predSVM.astype('int'))*100).round(2)}%\")"
   ]
  },
  {
   "cell_type": "code",
   "execution_count": 29,
   "id": "aee3c58d",
   "metadata": {},
   "outputs": [
    {
     "name": "stdout",
     "output_type": "stream",
     "text": [
      "Error absoluto medio [RFC]: 7.82%\n",
      "Puntaje R^2 [RFC]: 68.15%\n"
     ]
    }
   ],
   "source": [
    "print(f\"Error absoluto medio [RFC]: {(mean_absolute_error(y_test.astype('int'), Y_predRFC.astype('int'))*100).round(2)}%\")\n",
    "print(f\"Puntaje R^2 [RFC]: {(r2_score(y_test.astype('int'), Y_predRFC.astype('int'))*100).round(2)}%\")"
   ]
  },
  {
   "cell_type": "code",
   "execution_count": 30,
   "id": "8c9a5adf",
   "metadata": {},
   "outputs": [
    {
     "name": "stdout",
     "output_type": "stream",
     "text": [
      "Conjunto de datos: (9075, 3) (9075,)\n",
      "Conjunto de entrenamiento: (7260,) (7260,)\n",
      "Conjunto de prueba: (1815,) (1815,)\n"
     ]
    }
   ],
   "source": [
    "print(\"Conjunto de datos:\", df.shape, df['Groom'].shape)\n",
    "print(\"Conjunto de entrenamiento:\", X_train.shape, y_train.shape)\n",
    "print(\"Conjunto de prueba:\", X_test.shape, y_test.shape)"
   ]
  },
  {
   "cell_type": "code",
   "execution_count": 31,
   "id": "95b97681",
   "metadata": {},
   "outputs": [
    {
     "name": "stdout",
     "output_type": "stream",
     "text": [
      "Métricas de evaluación del modelo Naive Bayes:\n",
      "\n",
      "Exactitud: 93.66%\n",
      "Precisión: 93.85%\n",
      "Recuerdo: 95.03%\n",
      "Puntuación F1: 94.44%\n",
      "Sensibilidad: 95.03%\n"
     ]
    }
   ],
   "source": [
    "print(\"Métricas de evaluación del modelo Naive Bayes:\\n\")\n",
    "print(f\"Exactitud: {(accuracy_score(y_test, Y_predMNB)*100).round(2)}%\")\n",
    "print(f\"Precisión: {(precision_score(y_test, Y_predMNB)*100).round(2)}%\")\n",
    "print(f\"Recuerdo: {(recall_score(y_test, Y_predMNB)*100).round(2)}%\")\n",
    "print(f\"Puntuación F1: {(f1_score(y_test, Y_predMNB)*100).round(2)}%\")\n",
    "print(f\"Sensibilidad: {(recall_score(y_test, Y_predMNB)*100).round(2)}%\")"
   ]
  },
  {
   "cell_type": "code",
   "execution_count": 32,
   "id": "a46f353e",
   "metadata": {},
   "outputs": [
    {
     "name": "stdout",
     "output_type": "stream",
     "text": [
      "Métricas de evaluación del modelo Suport Vector Machine:\n",
      "\n",
      "Exactitud: 93.99%\n",
      "Precisión: 95.63%\n",
      "Recuerdo: 93.67%\n",
      "Puntuación F1: 94.64%\n",
      "Sensibilidad: 93.67%\n"
     ]
    }
   ],
   "source": [
    "print(\"Métricas de evaluación del modelo Suport Vector Machine:\\n\")\n",
    "print(f\"Exactitud: {(accuracy_score(y_test, Y_predSVM)*100).round(2)}%\")\n",
    "print(f\"Precisión: {(precision_score(y_test, Y_predSVM)*100).round(2)}%\")\n",
    "print(f\"Recuerdo: {(recall_score(y_test, Y_predSVM)*100).round(2)}%\")\n",
    "print(f\"Puntuación F1: {(f1_score(y_test, Y_predSVM)*100).round(2)}%\")\n",
    "print(f\"Sensibilidad: {(recall_score(y_test, Y_predSVM)*100).round(2)}%\")"
   ]
  },
  {
   "cell_type": "code",
   "execution_count": 33,
   "id": "2e9a78ec",
   "metadata": {},
   "outputs": [
    {
     "name": "stdout",
     "output_type": "stream",
     "text": [
      "Métricas de evaluación del modelo Random Forest:\n",
      "\n",
      "Exactitud: 92.18%\n",
      "Precisión: 94.83%\n",
      "Recuerdo: 91.14%\n",
      "Puntuación F1: 92.95%\n",
      "Sensibilidad: 91.14%\n"
     ]
    }
   ],
   "source": [
    "print(\"Métricas de evaluación del modelo Random Forest:\\n\")\n",
    "print(f\"Exactitud: {(accuracy_score(y_test, Y_predRFC)*100).round(2)}%\")\n",
    "print(f\"Precisión: {(precision_score(y_test, Y_predRFC)*100).round(2)}%\")\n",
    "print(f\"Recuerdo: {(recall_score(y_test, Y_predRFC)*100).round(2)}%\")\n",
    "print(f\"Puntuación F1: {(f1_score(y_test, Y_predRFC)*100).round(2)}%\")\n",
    "print(f\"Sensibilidad: {(recall_score(y_test, Y_predRFC)*100).round(2)}%\")"
   ]
  },
  {
   "cell_type": "code",
   "execution_count": 34,
   "id": "9f9c92dd",
   "metadata": {},
   "outputs": [
    {
     "name": "stdout",
     "output_type": "stream",
     "text": [
      "[0.02190652 0.26894454 0.95462949 ... 0.9702036  0.61548257 0.89253784]\n"
     ]
    }
   ],
   "source": [
    "y_pred_probMNB = modelMNB.predict_proba(X_test)[:,1]\n",
    "print(y_pred_probMNB)"
   ]
  },
  {
   "cell_type": "code",
   "execution_count": 60,
   "id": "55e36960",
   "metadata": {},
   "outputs": [
    {
     "name": "stdout",
     "output_type": "stream",
     "text": [
      "[0.01425697 0.05398869 0.98766695 ... 0.99687506 0.93111501 0.98606711]\n"
     ]
    }
   ],
   "source": [
    "y_pred_probSVM = modelSVM.predict_proba(X_test)[:,1]\n",
    "print(y_pred_probSVM)"
   ]
  },
  {
   "cell_type": "code",
   "execution_count": 37,
   "id": "5c166422",
   "metadata": {},
   "outputs": [
    {
     "name": "stdout",
     "output_type": "stream",
     "text": [
      "[0.         0.29982693 0.975      ... 0.97       0.77068108 0.88294444]\n"
     ]
    }
   ],
   "source": [
    "y_pred_probRFC = modelRFC.predict_proba(X_test)[:,1]\n",
    "print(y_pred_probRFC)"
   ]
  },
  {
   "cell_type": "code",
   "execution_count": 38,
   "id": "1134374d",
   "metadata": {},
   "outputs": [
    {
     "name": "stdout",
     "output_type": "stream",
     "text": [
      "Puntaje AUC [NB]: 93.46%\n"
     ]
    },
    {
     "data": {
      "image/png": "[encoded data removed]",
      "text/plain": [
       "<Figure size 432x288 with 1 Axes>"
      ]
     },
     "metadata": {
      "needs_background": "light"
     },
     "output_type": "display_data"
    }
   ],
   "source": [
    "print(f\"Puntaje AUC [NB]: {((roc_auc_score(y_test, Y_predMNB))*100).round(2)}%\")\n",
    "plot_roc_curve(modelMNB, X_test, y_test)\n",
    "plt.title('Naive Bayes')\n",
    "plt.show()"
   ]
  },
  {
   "cell_type": "code",
   "execution_count": 39,
   "id": "92df6588",
   "metadata": {},
   "outputs": [
    {
     "name": "stdout",
     "output_type": "stream",
     "text": [
      "Puntaje AUC [SVM]: 94.04%\n"
     ]
    },
    {
     "data": {
      "image/png": "[encoded data removed]",
      "text/plain": [
       "<Figure size 432x288 with 1 Axes>"
      ]
     },
     "metadata": {
      "needs_background": "light"
     },
     "output_type": "display_data"
    }
   ],
   "source": [
    "print(f\"Puntaje AUC [SVM]: {((roc_auc_score(y_test, Y_predSVM))*100).round(2)}%\")\n",
    "plot_roc_curve(modelSVM, X_test, y_test)\n",
    "plt.title('SVM')\n",
    "plt.show()"
   ]
  },
  {
   "cell_type": "code",
   "execution_count": 40,
   "id": "c76a6b80",
   "metadata": {},
   "outputs": [
    {
     "name": "stdout",
     "output_type": "stream",
     "text": [
      "Puntaje AUC [RF]: 92.33%\n"
     ]
    },
    {
     "data": {
      "image/png": "[encoded data removed]",
      "text/plain": [
       "<Figure size 432x288 with 1 Axes>"
      ]
     },
     "metadata": {
      "needs_background": "light"
     },
     "output_type": "display_data"
    }
   ],
   "source": [
    "print(f\"Puntaje AUC [RF]: {((roc_auc_score(y_test, Y_predRFC))*100).round(2)}%\")\n",
    "plot_roc_curve(modelRFC, X_test, y_test)\n",
    "plt.title('Random Forest')\n",
    "plt.show()"
   ]
  },
  {
   "cell_type": "markdown",
   "id": "a9fb9046",
   "metadata": {},
   "source": [
    "## Probar los modelos"
   ]
  },
  {
   "cell_type": "code",
   "execution_count": 66,
   "id": "75a93fda",
   "metadata": {},
   "outputs": [],
   "source": [
    "#modelMNB.predict_proba(['I go to play soccer'])"
   ]
  },
  {
   "cell_type": "code",
   "execution_count": 63,
   "id": "03212546",
   "metadata": {},
   "outputs": [
    {
     "data": {
      "text/plain": [
       "array([[0.02360516, 0.97639484]])"
      ]
     },
     "execution_count": 63,
     "metadata": {},
     "output_type": "execute_result"
    }
   ],
   "source": [
    "modelSVM.predict_proba(['I go to play soccer'])"
   ]
  },
  {
   "cell_type": "code",
   "execution_count": 65,
   "id": "e4c362a6",
   "metadata": {},
   "outputs": [],
   "source": [
    "#modelRFC.predict_proba(['I go to play soccer'])"
   ]
  },
  {
   "cell_type": "code",
   "execution_count": 46,
   "id": "14b93ec5",
   "metadata": {},
   "outputs": [],
   "source": [
    "#from win10toast import ToastNotifier\n",
    "#toast = ToastNotifier()"
   ]
  },
  {
   "cell_type": "code",
   "execution_count": 47,
   "id": "83e2f350",
   "metadata": {},
   "outputs": [],
   "source": [
    "def groom_classifier(*msg, model):\n",
    "    msg_pred = model.predict(msg)\n",
    "    if msg_pred*100 > 80:\n",
    "        #toast.show_toast(\"Alert\", \"Grooming content in chat!\", duration=5)\n",
    "        print(\"Grooming content in chat!\")\n",
    "    else:\n",
    "        print(\"None\")"
   ]
  },
  {
   "cell_type": "code",
   "execution_count": 51,
   "id": "1759455d",
   "metadata": {},
   "outputs": [
    {
     "name": "stdout",
     "output_type": "stream",
     "text": [
      "Grooming content in chat!\n"
     ]
    }
   ],
   "source": [
    "groom_classifier(\"Send me a pic of your homework please\", model=modelMNB)"
   ]
  },
  {
   "cell_type": "code",
   "execution_count": 52,
   "id": "2e2515cc",
   "metadata": {},
   "outputs": [
    {
     "name": "stdout",
     "output_type": "stream",
     "text": [
      "Grooming content in chat!\n"
     ]
    }
   ],
   "source": [
    "groom_classifier(\"Send me a pic of your homework please\", model=modelSVM)"
   ]
  },
  {
   "cell_type": "code",
   "execution_count": 53,
   "id": "6f0a8c8f",
   "metadata": {},
   "outputs": [
    {
     "name": "stdout",
     "output_type": "stream",
     "text": [
      "Grooming content in chat!\n"
     ]
    }
   ],
   "source": [
    "groom_classifier(\"Send me a pic of your homework please\", model=modelRFC)"
   ]
  },
  {
   "cell_type": "code",
   "execution_count": 61,
   "id": "5f762484",
   "metadata": {},
   "outputs": [],
   "source": [
    "#!jupyter nbconvert --to webpdf --allow-chromium-download TestClassifiers.ipynb"
   ]
  },
  {
   "cell_type": "code",
   "execution_count": null,
   "id": "80fc6584",
   "metadata": {},
   "outputs": [],
   "source": []
  }
 ],
 "metadata": {
  "kernelspec": {
   "display_name": "Python 3 (ipykernel)",
   "language": "python",
   "name": "python3"
  },
  "language_info": {
   "codemirror_mode": {
    "name": "ipython",
    "version": 3
   },
   "file_extension": ".py",
   "mimetype": "text/x-python",
   "name": "python",
   "nbconvert_exporter": "python",
   "pygments_lexer": "ipython3",
   "version": "3.8.5"
  }
 },
 "nbformat": 4,
 "nbformat_minor": 5
}
