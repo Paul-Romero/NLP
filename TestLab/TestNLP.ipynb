{
 "cells": [
  {
   "cell_type": "code",
   "execution_count": 2,
   "id": "b27c651c",
   "metadata": {},
   "outputs": [],
   "source": [
    "# Celda de importación de librerias\n",
    "from nltk.tokenize import word_tokenize, regexp_tokenize\n",
    "from nltk import regexp_tokenize as rxtoken\n",
    "from nltk.stem import SnowballStemmer, RegexpStemmer\n",
    "from nltk.corpus import stopwords\n",
    "from nltk.probability import FreqDist\n",
    "from wordcloud import WordCloud\n",
    "import matplotlib.pyplot as plt\n",
    "import nltk, pandas as pd"
   ]
  },
  {
   "cell_type": "code",
   "execution_count": 20,
   "id": "36cac25a",
   "metadata": {},
   "outputs": [
    {
     "name": "stdout",
     "output_type": "stream",
     "text": [
      "<class 'pandas.core.frame.DataFrame'>\n",
      "RangeIndex: 265866 entries, 0 to 265865\n",
      "Data columns (total 3 columns):\n",
      " #   Column  Non-Null Count   Dtype \n",
      "---  ------  --------------   ----- \n",
      " 0   User    265866 non-null  object\n",
      " 1   Text    265866 non-null  object\n",
      " 2   Groom   265866 non-null  bool  \n",
      "dtypes: bool(1), object(2)\n",
      "memory usage: 4.3+ MB\n"
     ]
    },
    {
     "data": {
      "text/html": [
       "<div>\n",
       "<style scoped>\n",
       "    .dataframe tbody tr th:only-of-type {\n",
       "        vertical-align: middle;\n",
       "    }\n",
       "\n",
       "    .dataframe tbody tr th {\n",
       "        vertical-align: top;\n",
       "    }\n",
       "\n",
       "    .dataframe thead th {\n",
       "        text-align: right;\n",
       "    }\n",
       "</style>\n",
       "<table border=\"1\" class=\"dataframe\">\n",
       "  <thead>\n",
       "    <tr style=\"text-align: right;\">\n",
       "      <th></th>\n",
       "      <th>User</th>\n",
       "      <th>Text</th>\n",
       "      <th>Groom</th>\n",
       "    </tr>\n",
       "  </thead>\n",
       "  <tbody>\n",
       "    <tr>\n",
       "      <th>0</th>\n",
       "      <td>abraxisreborn</td>\n",
       "      <td>like half hour north milwauke</td>\n",
       "      <td>True</td>\n",
       "    </tr>\n",
       "    <tr>\n",
       "      <th>1</th>\n",
       "      <td>beckibillybob</td>\n",
       "      <td>town north side</td>\n",
       "      <td>False</td>\n",
       "    </tr>\n",
       "    <tr>\n",
       "      <th>2</th>\n",
       "      <td>beckibillybob</td>\n",
       "      <td>suburb</td>\n",
       "      <td>False</td>\n",
       "    </tr>\n",
       "    <tr>\n",
       "      <th>3</th>\n",
       "      <td>abraxisreborn</td>\n",
       "      <td>hartford</td>\n",
       "      <td>True</td>\n",
       "    </tr>\n",
       "    <tr>\n",
       "      <th>4</th>\n",
       "      <td>beckibillybob</td>\n",
       "      <td>menomone fall</td>\n",
       "      <td>False</td>\n",
       "    </tr>\n",
       "    <tr>\n",
       "      <th>...</th>\n",
       "      <td>...</td>\n",
       "      <td>...</td>\n",
       "      <td>...</td>\n",
       "    </tr>\n",
       "    <tr>\n",
       "      <th>265861</th>\n",
       "      <td>zachery</td>\n",
       "      <td>babe what address</td>\n",
       "      <td>True</td>\n",
       "    </tr>\n",
       "    <tr>\n",
       "      <th>265862</th>\n",
       "      <td>layla</td>\n",
       "      <td>like want cant want come everi night</td>\n",
       "      <td>False</td>\n",
       "    </tr>\n",
       "    <tr>\n",
       "      <th>265863</th>\n",
       "      <td>zachery</td>\n",
       "      <td>knew address come</td>\n",
       "      <td>True</td>\n",
       "    </tr>\n",
       "    <tr>\n",
       "      <th>265864</th>\n",
       "      <td>layla</td>\n",
       "      <td>need meet first talk phone need know real</td>\n",
       "      <td>False</td>\n",
       "    </tr>\n",
       "    <tr>\n",
       "      <th>265865</th>\n",
       "      <td>layla</td>\n",
       "      <td>realli want</td>\n",
       "      <td>False</td>\n",
       "    </tr>\n",
       "  </tbody>\n",
       "</table>\n",
       "<p>265866 rows × 3 columns</p>\n",
       "</div>"
      ],
      "text/plain": [
       "                 User                                       Text  Groom\n",
       "0       abraxisreborn              like half hour north milwauke   True\n",
       "1       beckibillybob                            town north side  False\n",
       "2       beckibillybob                                     suburb  False\n",
       "3       abraxisreborn                                   hartford   True\n",
       "4       beckibillybob                              menomone fall  False\n",
       "...               ...                                        ...    ...\n",
       "265861        zachery                          babe what address   True\n",
       "265862          layla       like want cant want come everi night  False\n",
       "265863        zachery                          knew address come   True\n",
       "265864          layla  need meet first talk phone need know real  False\n",
       "265865          layla                                realli want  False\n",
       "\n",
       "[265866 rows x 3 columns]"
      ]
     },
     "execution_count": 20,
     "metadata": {},
     "output_type": "execute_result"
    }
   ],
   "source": [
    "# Celda del Dataframe\n",
    "df = pd.read_csv(\"./WordsDataset/Dataset.csv\")\n",
    "df.info()\n",
    "#df['Groom'] = df.Groom.map({'True':1, 'False':0})"
   ]
  },
  {
   "cell_type": "code",
   "execution_count": 75,
   "id": "54dab00b",
   "metadata": {},
   "outputs": [],
   "source": [
    "def tokenization(text):\n",
    "    #token = word_tokenize(text) # Separa el texto en tokens\n",
    "    token = regexp_tokenize(text,'[^0-9]') # Extrae los token del texto sin numeros\n",
    "    token = ''.join(str(k) for k in token) # Une los items de la lista\n",
    "    return token.split() # Devuelve tokens del texto"
   ]
  },
  {
   "cell_type": "code",
   "execution_count": 76,
   "id": "baf6c900",
   "metadata": {},
   "outputs": [],
   "source": [
    "def lemmatization(text):\n",
    "    stemmer = SnowballStemmer('english') # Clase Stemming\n",
    "    stem_text = []\n",
    "    for word in text: # Recorro cada palabra en la lista y extraigo su raiz\n",
    "        stem_text.append(stemmer.stem(word))\n",
    "    return stem_text # Devuelvo la raiz de cada palabra"
   ]
  },
  {
   "cell_type": "code",
   "execution_count": 77,
   "id": "853def1b",
   "metadata": {},
   "outputs": [],
   "source": [
    "def preprocessText(text):\n",
    "    stopwd = stopwords.words('english') # Conjunto de stopwords\n",
    "    tokens = tokenization(text) # Obtengo el token del texto\n",
    "    if tokens:\n",
    "        # Si el token no pertenece al conjunto de stopwords lo agrego a la lista\n",
    "        text_without_stopwd = [word for word in tokens if len(word) > 2 and word not in stopwd]\n",
    "        text_process = lemmatization(text_without_stopwd) # Obtengo la base de cada palabra en la lista\n",
    "        if text_process:\n",
    "            return text_process # Devuelvo una lista con las palabras mas significativas"
   ]
  },
  {
   "cell_type": "code",
   "execution_count": 78,
   "id": "0452b6e9",
   "metadata": {},
   "outputs": [],
   "source": [
    "def processText(text):\n",
    "    token = tokenization(text) # Obtengo el token del texto\n",
    "    clean_words = [word for word in token if len(word)>2 and word not in stopwords.words('english')]\n",
    "    lemma_words = lemmatization(clean_words)\n",
    "    proces_text = [text for text in lemma_words if text]\n",
    "    proces_text = ' '.join(str(t) for t in proces_text if t)\n",
    "    return proces_text"
   ]
  },
  {
   "cell_type": "code",
   "execution_count": 21,
   "id": "9bfb0785",
   "metadata": {},
   "outputs": [
    {
     "data": {
      "text/html": [
       "<div>\n",
       "<style scoped>\n",
       "    .dataframe tbody tr th:only-of-type {\n",
       "        vertical-align: middle;\n",
       "    }\n",
       "\n",
       "    .dataframe tbody tr th {\n",
       "        vertical-align: top;\n",
       "    }\n",
       "\n",
       "    .dataframe thead th {\n",
       "        text-align: right;\n",
       "    }\n",
       "</style>\n",
       "<table border=\"1\" class=\"dataframe\">\n",
       "  <thead>\n",
       "    <tr style=\"text-align: right;\">\n",
       "      <th></th>\n",
       "      <th>User</th>\n",
       "      <th>Text</th>\n",
       "      <th>Groom</th>\n",
       "    </tr>\n",
       "  </thead>\n",
       "  <tbody>\n",
       "    <tr>\n",
       "      <th>0</th>\n",
       "      <td>abraxisreborn</td>\n",
       "      <td>like half hour north milwauke</td>\n",
       "      <td>True</td>\n",
       "    </tr>\n",
       "    <tr>\n",
       "      <th>1</th>\n",
       "      <td>beckibillybob</td>\n",
       "      <td>town north side</td>\n",
       "      <td>False</td>\n",
       "    </tr>\n",
       "    <tr>\n",
       "      <th>2</th>\n",
       "      <td>beckibillybob</td>\n",
       "      <td>suburb</td>\n",
       "      <td>False</td>\n",
       "    </tr>\n",
       "    <tr>\n",
       "      <th>3</th>\n",
       "      <td>abraxisreborn</td>\n",
       "      <td>hartford</td>\n",
       "      <td>True</td>\n",
       "    </tr>\n",
       "    <tr>\n",
       "      <th>4</th>\n",
       "      <td>beckibillybob</td>\n",
       "      <td>menomone fall</td>\n",
       "      <td>False</td>\n",
       "    </tr>\n",
       "    <tr>\n",
       "      <th>...</th>\n",
       "      <td>...</td>\n",
       "      <td>...</td>\n",
       "      <td>...</td>\n",
       "    </tr>\n",
       "    <tr>\n",
       "      <th>265861</th>\n",
       "      <td>zachery</td>\n",
       "      <td>babe what address</td>\n",
       "      <td>True</td>\n",
       "    </tr>\n",
       "    <tr>\n",
       "      <th>265862</th>\n",
       "      <td>layla</td>\n",
       "      <td>like want cant want come everi night</td>\n",
       "      <td>False</td>\n",
       "    </tr>\n",
       "    <tr>\n",
       "      <th>265863</th>\n",
       "      <td>zachery</td>\n",
       "      <td>knew address come</td>\n",
       "      <td>True</td>\n",
       "    </tr>\n",
       "    <tr>\n",
       "      <th>265864</th>\n",
       "      <td>layla</td>\n",
       "      <td>need meet first talk phone need know real</td>\n",
       "      <td>False</td>\n",
       "    </tr>\n",
       "    <tr>\n",
       "      <th>265865</th>\n",
       "      <td>layla</td>\n",
       "      <td>realli want</td>\n",
       "      <td>False</td>\n",
       "    </tr>\n",
       "  </tbody>\n",
       "</table>\n",
       "<p>187094 rows × 3 columns</p>\n",
       "</div>"
      ],
      "text/plain": [
       "                 User                                       Text  Groom\n",
       "0       abraxisreborn              like half hour north milwauke   True\n",
       "1       beckibillybob                            town north side  False\n",
       "2       beckibillybob                                     suburb  False\n",
       "3       abraxisreborn                                   hartford   True\n",
       "4       beckibillybob                              menomone fall  False\n",
       "...               ...                                        ...    ...\n",
       "265861        zachery                          babe what address   True\n",
       "265862          layla       like want cant want come everi night  False\n",
       "265863        zachery                          knew address come   True\n",
       "265864          layla  need meet first talk phone need know real  False\n",
       "265865          layla                                realli want  False\n",
       "\n",
       "[187094 rows x 3 columns]"
      ]
     },
     "execution_count": 21,
     "metadata": {},
     "output_type": "execute_result"
    }
   ],
   "source": [
    "\"\"\"num_rows = df.shape[0] # Longitud de dataframe\n",
    "msg, message = [], []\n",
    "for i in range(0,num_rows):\n",
    "    msg.append(df['Text'][i]) # Agrego cada texto a la lista\n",
    "    message.append(preprocessText(msg[i])) # Agrego a la lista el valor devuelto\n",
    "msg = [m for m in message if m]\"\"\"\n",
    "\n",
    "df.drop_duplicates()\n",
    "#df.Text.unique()"
   ]
  },
  {
   "cell_type": "code",
   "execution_count": 121,
   "id": "97b8e3de",
   "metadata": {},
   "outputs": [
    {
     "name": "stdout",
     "output_type": "stream",
     "text": [
      "showing info https://raw.githubusercontent.com/nltk/nltk_data/gh-pages/index.xml\n"
     ]
    },
    {
     "data": {
      "text/plain": [
       "True"
      ]
     },
     "execution_count": 121,
     "metadata": {},
     "output_type": "execute_result"
    }
   ],
   "source": [
    "#print(len(msg),f\"El {(100-len(msg)*100/len(message)):.2f}% son palabras sin importancia\",sep='\\n')"
   ]
  },
  {
   "cell_type": "code",
   "execution_count": 22,
   "id": "e7d153a0",
   "metadata": {},
   "outputs": [
    {
     "name": "stdout",
     "output_type": "stream",
     "text": [
      "  (0, 9252)\t1\n",
      "  (0, 6959)\t1\n",
      "  (0, 7676)\t1\n",
      "  (0, 11157)\t1\n",
      "  (0, 10219)\t1\n",
      "  (1, 11157)\t1\n",
      "  (1, 17037)\t1\n",
      "  (1, 14460)\t1\n",
      "  (2, 15705)\t1\n",
      "  (3, 7075)\t1\n",
      "  (4, 10068)\t1\n",
      "  (4, 5447)\t1\n",
      "  (5, 14728)\t1\n",
      "  (5, 18881)\t1\n",
      "  (6, 18366)\t1\n",
      "  (7, 10572)\t1\n",
      "  (8, 2805)\t1\n",
      "  (9, 1881)\t1\n",
      "  (9, 11788)\t1\n",
      "  (9, 7148)\t1\n",
      "  (10, 9375)\t1\n",
      "  (11, 2506)\t1\n",
      "  (12, 10788)\t1\n",
      "  (13, 13927)\t1\n",
      "  (13, 9663)\t1\n",
      "  :\t:\n",
      "  (265859, 16699)\t1\n",
      "  (265859, 188)\t1\n",
      "  (265860, 18220)\t1\n",
      "  (265860, 6482)\t1\n",
      "  (265861, 18366)\t1\n",
      "  (265861, 1179)\t1\n",
      "  (265861, 188)\t1\n",
      "  (265862, 9252)\t1\n",
      "  (265862, 2440)\t1\n",
      "  (265862, 18039)\t2\n",
      "  (265862, 3152)\t1\n",
      "  (265862, 5181)\t1\n",
      "  (265862, 10975)\t1\n",
      "  (265863, 3152)\t1\n",
      "  (265863, 8827)\t1\n",
      "  (265863, 188)\t1\n",
      "  (265864, 16072)\t1\n",
      "  (265864, 8849)\t1\n",
      "  (265864, 10805)\t2\n",
      "  (265864, 13152)\t1\n",
      "  (265864, 10032)\t1\n",
      "  (265864, 12200)\t1\n",
      "  (265864, 5709)\t1\n",
      "  (265865, 13163)\t1\n",
      "  (265865, 18039)\t1\t(265866, 19583)\n"
     ]
    }
   ],
   "source": [
    "from sklearn.feature_extraction.text import CountVectorizer\n",
    "import operator\n",
    "tokens_bow = CountVectorizer().fit_transform(df['Text'])\n",
    "print(tokens_bow,tokens_bow.shape,sep='\\t')\n",
    "#vector_sort = sorted(vector.vocabulary_.items(), key=operator.itemgetter(1), reverse=True)\n",
    "#pos_text = nltk.pos_tag(vector.vocabulary_,tagset='universal')\n",
    "#pos_text\n",
    "#frq_dist = nltk.FreqDist(df['Text'])\n",
    "#frq_dist.most_common(25)"
   ]
  },
  {
   "cell_type": "code",
   "execution_count": 11,
   "id": "2811a7a6",
   "metadata": {},
   "outputs": [],
   "source": [
    "# Código para extaer los datos de la lista resultante de la función preprocessText()\n",
    "# Ya no es necesario, los datos ya fueron modificados directamente en el DataFrame\n",
    "text = []\n",
    "for i in range(len(msg)):\n",
    "    if len(msg[i]) > 1:\n",
    "        for j in range(len(msg[i])):\n",
    "            text.append(msg[i][j])\n",
    "    else:\n",
    "        text.append(msg[i][0])"
   ]
  },
  {
   "cell_type": "code",
   "execution_count": 23,
   "id": "335cda5e",
   "metadata": {},
   "outputs": [],
   "source": [
    "from sklearn.model_selection import train_test_split\n",
    "X_train, X_test, y_train, y_test = train_test_split(tokens_bow, df['Groom'],test_size=0.25, random_state=0)"
   ]
  },
  {
   "cell_type": "code",
   "execution_count": 24,
   "id": "baf19c25",
   "metadata": {},
   "outputs": [
    {
     "name": "stdout",
     "output_type": "stream",
     "text": [
      "[ True  True  True False False False  True False  True  True  True False\n",
      " False False  True  True  True False  True  True]\n",
      "[ True  True  True False False False False  True False  True False False\n",
      "  True False  True  True False False  True  True]\n"
     ]
    }
   ],
   "source": [
    "from sklearn.naive_bayes import MultinomialNB\n",
    "classifier = MultinomialNB().fit(X_train,y_train)\n",
    "print(classifier.predict(X_train)[:20])\n",
    "print(y_train.values[:20])"
   ]
  },
  {
   "cell_type": "code",
   "execution_count": 25,
   "id": "fdb4138c",
   "metadata": {},
   "outputs": [
    {
     "name": "stdout",
     "output_type": "stream",
     "text": [
      "              precision    recall  f1-score   support\n",
      "\n",
      "       False       0.74      0.69      0.71     98642\n",
      "        True       0.72      0.76      0.73    100757\n",
      "\n",
      "    accuracy                           0.72    199399\n",
      "   macro avg       0.73      0.72      0.72    199399\n",
      "weighted avg       0.73      0.72      0.72    199399\n",
      "\n",
      "\n",
      "\n",
      "[[68377 30265]\n",
      " [24632 76125]]\n",
      "\n",
      "\n",
      "0.7246876864979263\n"
     ]
    }
   ],
   "source": [
    "from sklearn.metrics import classification_report, confusion_matrix, accuracy_score\n",
    "y_pred = classifier.predict(X_train)\n",
    "print(classification_report(y_train, y_pred))\n",
    "print('\\n')\n",
    "print(confusion_matrix(y_train, y_pred))\n",
    "print('\\n')\n",
    "print(accuracy_score(y_train, y_pred))"
   ]
  },
  {
   "cell_type": "code",
   "execution_count": 26,
   "id": "d145e358",
   "metadata": {},
   "outputs": [
    {
     "name": "stdout",
     "output_type": "stream",
     "text": [
      "[False False  True  True False  True  True False  True False False  True\n",
      " False  True False False  True  True False False]\n",
      "[ True False  True  True False  True False  True False False False False\n",
      " False  True False  True False False False False]\n"
     ]
    }
   ],
   "source": [
    "print(classifier.predict(X_test)[:20])\n",
    "print(y_test.values[:20])"
   ]
  },
  {
   "cell_type": "code",
   "execution_count": 27,
   "id": "addd9e31",
   "metadata": {},
   "outputs": [
    {
     "name": "stdout",
     "output_type": "stream",
     "text": [
      "              precision    recall  f1-score   support\n",
      "\n",
      "       False       0.71      0.68      0.70     32905\n",
      "        True       0.70      0.73      0.71     33562\n",
      "\n",
      "    accuracy                           0.70     66467\n",
      "   macro avg       0.70      0.70      0.70     66467\n",
      "weighted avg       0.70      0.70      0.70     66467\n",
      "\n",
      "\n",
      "\n",
      "[[22391 10514]\n",
      " [ 9124 24438]]\n",
      "\n",
      "\n",
      "0.7045451126122737\n"
     ]
    }
   ],
   "source": [
    "from sklearn.metrics import classification_report, confusion_matrix, accuracy_score\n",
    "y_pred = classifier.predict(X_test)\n",
    "print(classification_report(y_test, y_pred))\n",
    "print('\\n')\n",
    "print(confusion_matrix(y_test, y_pred))\n",
    "print('\\n')\n",
    "print(accuracy_score(y_test, y_pred))"
   ]
  },
  {
   "cell_type": "code",
   "execution_count": 28,
   "id": "003534d4",
   "metadata": {},
   "outputs": [],
   "source": [
    "#message = ' '.join(str(k) for k in text)\n",
    "frq_dist = nltk.FreqDist(df['Text'])\n",
    "#frq_dist.plot(30,cumulative=False)"
   ]
  },
  {
   "cell_type": "code",
   "execution_count": 29,
   "id": "1e08bbe0",
   "metadata": {},
   "outputs": [
    {
     "data": {
      "image/png": "[encoded data removed]",
      "text/plain": [
       "<Figure size 432x288 with 1 Axes>"
      ]
     },
     "metadata": {
      "needs_background": "light"
     },
     "output_type": "display_data"
    }
   ],
   "source": [
    "wcloud = WordCloud().generate_from_frequencies(frq_dist)\n",
    "plt.imshow(wcloud,interpolation='bilinear')\n",
    "plt.axis('off')\n",
    "(-0.5,400,200,-0.5)\n",
    "plt.show()"
   ]
  },
  {
   "cell_type": "code",
   "execution_count": 17,
   "id": "c6ae69ee",
   "metadata": {},
   "outputs": [],
   "source": [
    "#nltk.download('universal_tagset')\n",
    "#pos_text = nltk.pos_tag(df['Text'],tagset='universal')\n",
    "#pos_text[:20]"
   ]
  },
  {
   "cell_type": "code",
   "execution_count": 62,
   "id": "82718de3",
   "metadata": {},
   "outputs": [],
   "source": [
    "#nltk.download('maxent_ne_chunker')\n",
    "#nltk.download('words')\n",
    "#nltk.ne_chunk(pos_text) pattern.es"
   ]
  },
  {
   "cell_type": "code",
   "execution_count": 49,
   "id": "7a2972f4",
   "metadata": {},
   "outputs": [],
   "source": [
    "import google_trans_new\n",
    "from google_trans_new import google_translator"
   ]
  },
  {
   "cell_type": "code",
   "execution_count": 51,
   "id": "06653c48",
   "metadata": {},
   "outputs": [
    {
     "ename": "JSONDecodeError",
     "evalue": "Extra data: line 1 column 502 (char 501)",
     "output_type": "error",
     "traceback": [
      "\u001b[1;31m---------------------------------------------------------------------------\u001b[0m",
      "\u001b[1;31mJSONDecodeError\u001b[0m                           Traceback (most recent call last)",
      "\u001b[1;32m<ipython-input-51-7290fc7b4437>\u001b[0m in \u001b[0;36m<module>\u001b[1;34m\u001b[0m\n\u001b[0;32m      1\u001b[0m \u001b[0mtrans\u001b[0m \u001b[1;33m=\u001b[0m \u001b[0mgoogle_translator\u001b[0m\u001b[1;33m(\u001b[0m\u001b[1;33m)\u001b[0m\u001b[1;33m\u001b[0m\u001b[1;33m\u001b[0m\u001b[0m\n\u001b[0;32m      2\u001b[0m \u001b[0mtext\u001b[0m \u001b[1;33m=\u001b[0m \u001b[1;34m\"What\"\u001b[0m\u001b[1;33m\u001b[0m\u001b[1;33m\u001b[0m\u001b[0m\n\u001b[1;32m----> 3\u001b[1;33m \u001b[0mtext_translate\u001b[0m \u001b[1;33m=\u001b[0m \u001b[0mtrans\u001b[0m\u001b[1;33m.\u001b[0m\u001b[0mtranslate\u001b[0m\u001b[1;33m(\u001b[0m\u001b[0mtext\u001b[0m\u001b[1;33m,\u001b[0m \u001b[0mlang_tgt\u001b[0m\u001b[1;33m=\u001b[0m\u001b[1;34m'es'\u001b[0m\u001b[1;33m)\u001b[0m\u001b[1;33m\u001b[0m\u001b[1;33m\u001b[0m\u001b[0m\n\u001b[0m\u001b[0;32m      4\u001b[0m \u001b[0mprint\u001b[0m\u001b[1;33m(\u001b[0m\u001b[0mtext_translate\u001b[0m\u001b[1;33m)\u001b[0m\u001b[1;33m\u001b[0m\u001b[1;33m\u001b[0m\u001b[0m\n",
      "\u001b[1;32mD:\\IDE\\Anaconda\\envs\\ProjectNLP\\lib\\site-packages\\google_trans_new\\google_trans_new.py\u001b[0m in \u001b[0;36mtranslate\u001b[1;34m(self, text, lang_tgt, lang_src, pronounce)\u001b[0m\n\u001b[0;32m    186\u001b[0m                                 \u001b[1;32mreturn\u001b[0m \u001b[1;33m[\u001b[0m\u001b[0msentences\u001b[0m\u001b[1;33m,\u001b[0m \u001b[0mpronounce_src\u001b[0m\u001b[1;33m,\u001b[0m \u001b[0mpronounce_tgt\u001b[0m\u001b[1;33m]\u001b[0m\u001b[1;33m\u001b[0m\u001b[1;33m\u001b[0m\u001b[0m\n\u001b[0;32m    187\u001b[0m                     \u001b[1;32mexcept\u001b[0m \u001b[0mException\u001b[0m \u001b[1;32mas\u001b[0m \u001b[0me\u001b[0m\u001b[1;33m:\u001b[0m\u001b[1;33m\u001b[0m\u001b[1;33m\u001b[0m\u001b[0m\n\u001b[1;32m--> 188\u001b[1;33m                         \u001b[1;32mraise\u001b[0m \u001b[0me\u001b[0m\u001b[1;33m\u001b[0m\u001b[1;33m\u001b[0m\u001b[0m\n\u001b[0m\u001b[0;32m    189\u001b[0m             \u001b[0mr\u001b[0m\u001b[1;33m.\u001b[0m\u001b[0mraise_for_status\u001b[0m\u001b[1;33m(\u001b[0m\u001b[1;33m)\u001b[0m\u001b[1;33m\u001b[0m\u001b[1;33m\u001b[0m\u001b[0m\n\u001b[0;32m    190\u001b[0m         \u001b[1;32mexcept\u001b[0m \u001b[0mrequests\u001b[0m\u001b[1;33m.\u001b[0m\u001b[0mexceptions\u001b[0m\u001b[1;33m.\u001b[0m\u001b[0mConnectTimeout\u001b[0m \u001b[1;32mas\u001b[0m \u001b[0me\u001b[0m\u001b[1;33m:\u001b[0m\u001b[1;33m\u001b[0m\u001b[1;33m\u001b[0m\u001b[0m\n",
      "\u001b[1;32mD:\\IDE\\Anaconda\\envs\\ProjectNLP\\lib\\site-packages\\google_trans_new\\google_trans_new.py\u001b[0m in \u001b[0;36mtranslate\u001b[1;34m(self, text, lang_tgt, lang_src, pronounce)\u001b[0m\n\u001b[0;32m    150\u001b[0m                     \u001b[1;32mtry\u001b[0m\u001b[1;33m:\u001b[0m\u001b[1;33m\u001b[0m\u001b[1;33m\u001b[0m\u001b[0m\n\u001b[0;32m    151\u001b[0m                         \u001b[0mresponse\u001b[0m \u001b[1;33m=\u001b[0m \u001b[1;33m(\u001b[0m\u001b[0mdecoded_line\u001b[0m \u001b[1;33m+\u001b[0m \u001b[1;34m']'\u001b[0m\u001b[1;33m)\u001b[0m\u001b[1;33m\u001b[0m\u001b[1;33m\u001b[0m\u001b[0m\n\u001b[1;32m--> 152\u001b[1;33m                         \u001b[0mresponse\u001b[0m \u001b[1;33m=\u001b[0m \u001b[0mjson\u001b[0m\u001b[1;33m.\u001b[0m\u001b[0mloads\u001b[0m\u001b[1;33m(\u001b[0m\u001b[0mresponse\u001b[0m\u001b[1;33m)\u001b[0m\u001b[1;33m\u001b[0m\u001b[1;33m\u001b[0m\u001b[0m\n\u001b[0m\u001b[0;32m    153\u001b[0m                         \u001b[0mresponse\u001b[0m \u001b[1;33m=\u001b[0m \u001b[0mlist\u001b[0m\u001b[1;33m(\u001b[0m\u001b[0mresponse\u001b[0m\u001b[1;33m)\u001b[0m\u001b[1;33m\u001b[0m\u001b[1;33m\u001b[0m\u001b[0m\n\u001b[0;32m    154\u001b[0m                         \u001b[0mresponse\u001b[0m \u001b[1;33m=\u001b[0m \u001b[0mjson\u001b[0m\u001b[1;33m.\u001b[0m\u001b[0mloads\u001b[0m\u001b[1;33m(\u001b[0m\u001b[0mresponse\u001b[0m\u001b[1;33m[\u001b[0m\u001b[1;36m0\u001b[0m\u001b[1;33m]\u001b[0m\u001b[1;33m[\u001b[0m\u001b[1;36m2\u001b[0m\u001b[1;33m]\u001b[0m\u001b[1;33m)\u001b[0m\u001b[1;33m\u001b[0m\u001b[1;33m\u001b[0m\u001b[0m\n",
      "\u001b[1;32mD:\\IDE\\Anaconda\\envs\\ProjectNLP\\lib\\json\\__init__.py\u001b[0m in \u001b[0;36mloads\u001b[1;34m(s, encoding, cls, object_hook, parse_float, parse_int, parse_constant, object_pairs_hook, **kw)\u001b[0m\n\u001b[0;32m    346\u001b[0m             \u001b[0mparse_int\u001b[0m \u001b[1;32mis\u001b[0m \u001b[1;32mNone\u001b[0m \u001b[1;32mand\u001b[0m \u001b[0mparse_float\u001b[0m \u001b[1;32mis\u001b[0m \u001b[1;32mNone\u001b[0m \u001b[1;32mand\u001b[0m\u001b[1;33m\u001b[0m\u001b[1;33m\u001b[0m\u001b[0m\n\u001b[0;32m    347\u001b[0m             parse_constant is None and object_pairs_hook is None and not kw):\n\u001b[1;32m--> 348\u001b[1;33m         \u001b[1;32mreturn\u001b[0m \u001b[0m_default_decoder\u001b[0m\u001b[1;33m.\u001b[0m\u001b[0mdecode\u001b[0m\u001b[1;33m(\u001b[0m\u001b[0ms\u001b[0m\u001b[1;33m)\u001b[0m\u001b[1;33m\u001b[0m\u001b[1;33m\u001b[0m\u001b[0m\n\u001b[0m\u001b[0;32m    349\u001b[0m     \u001b[1;32mif\u001b[0m \u001b[0mcls\u001b[0m \u001b[1;32mis\u001b[0m \u001b[1;32mNone\u001b[0m\u001b[1;33m:\u001b[0m\u001b[1;33m\u001b[0m\u001b[1;33m\u001b[0m\u001b[0m\n\u001b[0;32m    350\u001b[0m         \u001b[0mcls\u001b[0m \u001b[1;33m=\u001b[0m \u001b[0mJSONDecoder\u001b[0m\u001b[1;33m\u001b[0m\u001b[1;33m\u001b[0m\u001b[0m\n",
      "\u001b[1;32mD:\\IDE\\Anaconda\\envs\\ProjectNLP\\lib\\json\\decoder.py\u001b[0m in \u001b[0;36mdecode\u001b[1;34m(self, s, _w)\u001b[0m\n\u001b[0;32m    338\u001b[0m         \u001b[0mend\u001b[0m \u001b[1;33m=\u001b[0m \u001b[0m_w\u001b[0m\u001b[1;33m(\u001b[0m\u001b[0ms\u001b[0m\u001b[1;33m,\u001b[0m \u001b[0mend\u001b[0m\u001b[1;33m)\u001b[0m\u001b[1;33m.\u001b[0m\u001b[0mend\u001b[0m\u001b[1;33m(\u001b[0m\u001b[1;33m)\u001b[0m\u001b[1;33m\u001b[0m\u001b[1;33m\u001b[0m\u001b[0m\n\u001b[0;32m    339\u001b[0m         \u001b[1;32mif\u001b[0m \u001b[0mend\u001b[0m \u001b[1;33m!=\u001b[0m \u001b[0mlen\u001b[0m\u001b[1;33m(\u001b[0m\u001b[0ms\u001b[0m\u001b[1;33m)\u001b[0m\u001b[1;33m:\u001b[0m\u001b[1;33m\u001b[0m\u001b[1;33m\u001b[0m\u001b[0m\n\u001b[1;32m--> 340\u001b[1;33m             \u001b[1;32mraise\u001b[0m \u001b[0mJSONDecodeError\u001b[0m\u001b[1;33m(\u001b[0m\u001b[1;34m\"Extra data\"\u001b[0m\u001b[1;33m,\u001b[0m \u001b[0ms\u001b[0m\u001b[1;33m,\u001b[0m \u001b[0mend\u001b[0m\u001b[1;33m)\u001b[0m\u001b[1;33m\u001b[0m\u001b[1;33m\u001b[0m\u001b[0m\n\u001b[0m\u001b[0;32m    341\u001b[0m         \u001b[1;32mreturn\u001b[0m \u001b[0mobj\u001b[0m\u001b[1;33m\u001b[0m\u001b[1;33m\u001b[0m\u001b[0m\n\u001b[0;32m    342\u001b[0m \u001b[1;33m\u001b[0m\u001b[0m\n",
      "\u001b[1;31mJSONDecodeError\u001b[0m: Extra data: line 1 column 502 (char 501)"
     ]
    }
   ],
   "source": [
    "trans = google_translator()\n",
    "text = \"What\"\n",
    "text_translate = trans.translate(text, lang_tgt='es')\n",
    "print(text_translate)"
   ]
  },
  {
   "cell_type": "code",
   "execution_count": null,
   "id": "6f6f3aa0",
   "metadata": {},
   "outputs": [],
   "source": []
  }
 ],
 "metadata": {
  "kernelspec": {
   "display_name": "Python 3",
   "language": "python",
   "name": "python3"
  },
  "language_info": {
   "codemirror_mode": {
    "name": "ipython",
    "version": 3
   },
   "file_extension": ".py",
   "mimetype": "text/x-python",
   "name": "python",
   "nbconvert_exporter": "python",
   "pygments_lexer": "ipython3",
   "version": "3.7.10"
  }
 },
 "nbformat": 4,
 "nbformat_minor": 5
}
