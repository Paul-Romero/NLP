{
 "cells": [
  {
   "cell_type": "code",
   "execution_count": null,
   "metadata": {},
   "outputs": [],
   "source": []
  },
  {
   "cell_type": "code",
   "execution_count": null,
   "metadata": {},
   "outputs": [],
   "source": [
    "# Celda importar librerias\n",
    "import os, re, random, pandas as pd"
   ]
  },
  {
   "cell_type": "code",
   "execution_count": null,
   "metadata": {
    "tags": []
   },
   "outputs": [],
   "source": [
    "# Celda manejo de archivos\n",
    "def deleteChars(text):\n",
    "    ntext = [c for c in text.split() if c.isalnum()]\n",
    "    string = ' '.join(str(i) for i in ntext)\n",
    "    return string.lower()\n",
    "\n",
    "\n",
    "def splitUserText(text):\n",
    "    string = [re.sub(r\"\\(.*\\)\\:\", '', k) for k in text.split(\"\\n\")]\n",
    "    nstr = string[0].split()\n",
    "    user = nstr[0]\n",
    "    text = ' '.join(str(i) for i in nstr[1:])\n",
    "    text = deleteChars(text)\n",
    "    return user.lower(), text.lower()\n",
    "\n",
    "\n",
    "def fileProcess(archive):\n",
    "    print(\"Nombre del archivo con formato erroneo: \", archive)\n",
    "    file = open(f\"Dataset/{archive}\", mode='r',encoding='utf-8')\n",
    "    line = file.read()\n",
    "    if line:\n",
    "        chat = [re.sub(r\"\\(.*\\)\\:\", '', k) for k in line.split(\"\\n\")]\n",
    "    user_list, text_list = [], []\n",
    "    for i in range(len(chat)):\n",
    "        if chat[i]:\n",
    "            user, text = splitUserText(chat[i])\n",
    "        if text:\n",
    "            user_list.append(user)\n",
    "            text_list.append(text)\n",
    "    file.close()\n",
    "    groom = os.path.splitext(archive)[0]\n",
    "    #for i in range(len(chat)):\n",
    "    #    t = chat[i].split(' : ')\n",
    "    #    user.append(t[0])\n",
    "    #    text.append(t[1].lower())\n",
    "    df = pd.DataFrame({'User':user_list,'Text':text_list,'Label':0})\n",
    "    df['Label'] = df['User'] == groom\n",
    "    df.to_csv(f'Dataset/{groom}.csv',index=False)\n",
    "    print(df.info(),df,sep='\\n\\n')\n",
    "\n",
    "def walkPath(path):\n",
    "    for dirname, subdir, listfile in os.walk(path):\n",
    "            for file in listfile:\n",
    "                if file.endswith('.txt'):\n",
    "                    fileProcess(file)\n",
    "\n",
    "#path = \"C:/Users/PARA/Documents/Scripts/Python/Dataset\"\n",
    "#walkPath(path)\n",
    "#fileProcess(\"aGreatGuy.txt\")"
   ]
  },
  {
   "cell_type": "code",
   "execution_count": null,
   "metadata": {},
   "outputs": [],
   "source": [
    "# Celda mostrar datos\n",
    "#print(df.describe(),df.info(),df,sep='\\n\\n')"
   ]
  },
  {
   "cell_type": "code",
   "execution_count": null,
   "metadata": {
    "tags": []
   },
   "outputs": [],
   "source": [
    "# Celda de pruebas\n",
    "def deleteChars(text):\n",
    "    ntext = [c for c in text.split() if c.isalnum()]\n",
    "    #ntext = re.findall('[\\w]', ntext)\n",
    "    string = ' '.join(str(i) for i in ntext)\n",
    "    return string\n",
    "\n",
    "def splitUserText(text):\n",
    "    if text:\n",
    "        string = [re.sub(r\"('[^',]+),([^']+')\", '', k) for k in text.split(\"\\n\")]\n",
    "        nstr = string[0].split()\n",
    "        user = nstr[0]\n",
    "        text = ' '.join(str(i) for i in nstr[1:])\n",
    "        text = deleteChars(text)\n",
    "        return user.lower(), text.lower()\n",
    "\n",
    "splitUserText(\"ilovethaocean (08/26/06 1:20:13 AM): Im gonna call u at 5:45 so ill kno its u comin thru the garage door lol\")\n",
    "#ARREGLAR LOS TXT ANTES DE EJECUTAR"
   ]
  },
  {
   "cell_type": "code",
   "execution_count": null,
   "metadata": {},
   "outputs": [],
   "source": [
    "li = []\n",
    "usr = []\n",
    "line = \"RockClmbr2002: ok like are you Rachael or is someone else there cuz this is a little scary\"\n",
    "text = [re.sub(r\"\\:\", '', k) for k in line.split(r'[\\W]')]\n",
    "usr = text[0]\n",
    "for i in text:\n",
    "    text = deleteChars(i)\n",
    "    li.append(text)\n",
    "\n",
    "string = ' '.join(str(i) for i in li)\n",
    "print(usr)"
   ]
  },
  {
   "cell_type": "code",
   "execution_count": null,
   "metadata": {},
   "outputs": [],
   "source": [
    "file = open(\"Dataset/sentiment labelled sentences/imdb_labelled.txt\", mode='r',encoding='utf-8')\n",
    "lines = file.readlines()\n",
    "text, label = [], []\n",
    "if lines:\n",
    "    for line in lines:\n",
    "        text.append(line.split('\\t')[0])\n",
    "        label.append(line.split('\\t')[1])\n",
    "file.close()\n",
    "df = pd.DataFrame({'Text':text,'Label':label})\n",
    "df['Label'] = df['Label'] == '1\\n'\n",
    "df.to_csv('Dataset/sentiment labelled sentences/imdb_labelled.csv',index=False)\n",
    "print(df.info(),df,sep='\\n')"
   ]
  },
  {
   "cell_type": "code",
   "execution_count": null,
   "metadata": {},
   "outputs": [],
   "source": [
    "def get_csv_files(path):\n",
    "    for dirname, subdir, listfile in os.walk(path):\n",
    "            for file in listfile:\n",
    "                if file.endswith('.csv'):\n",
    "                    change_label(file)"
   ]
  },
  {
   "cell_type": "code",
   "execution_count": null,
   "metadata": {},
   "outputs": [],
   "source": [
    "def change_label(file):\n",
    "    df_file = pd.read_csv(f\"Dataset/{file}\")\n",
    "    df_file = df_file.rename(columns={'Label':'Groom'})\n",
    "    df_file.to_csv(f\"Dataset/{file}\",index=False)"
   ]
  },
  {
   "cell_type": "code",
   "execution_count": null,
   "metadata": {},
   "outputs": [],
   "source": [
    "path = \"C:/Users/PARA/Documents/Scripts/Python/Dataset\"\n",
    "#get_csv_files(path)"
   ]
  },
  {
   "cell_type": "code",
   "execution_count": null,
   "metadata": {},
   "outputs": [],
   "source": [
    "files_fails = [\"atlanta_italian\"]"
   ]
  },
  {
   "cell_type": "code",
   "execution_count": null,
   "metadata": {},
   "outputs": [],
   "source": [
    "for file in files_fails:\n",
    "    groom = os.path.splitext(file)[0].lower()\n",
    "    df_file = pd.read_csv(f\"Dataset/{file}.csv\")\n",
    "    df_file['Groom'] = df_file['User'] == groom\n",
    "    df_file.to_csv(f'Dataset/{file}.csv',index=False)"
   ]
  },
  {
   "cell_type": "code",
   "execution_count": null,
   "metadata": {},
   "outputs": [],
   "source": [
    "def delFiles(path):\n",
    "    for dirname, subdir, listfile in os.walk(path):\n",
    "            for file in listfile:\n",
    "                if file.endswith('.csv.csv'):\n",
    "                    os.remove(path+'/'+file)"
   ]
  },
  {
   "cell_type": "code",
   "execution_count": null,
   "metadata": {},
   "outputs": [],
   "source": [
    "path = \"C:/Users/PARA/Documents/Scripts/Python/Dataset\"\n",
    "delFiles(path)"
   ]
  },
  {
   "cell_type": "code",
   "execution_count": 1,
   "metadata": {},
   "outputs": [],
   "source": [
    "# HTML to Text \"assfider.txt forward->\"\n",
    "from selenium import webdriver\n",
    "from time import sleep\n",
    "import random, os\n",
    "global browser\n",
    "browser = webdriver.Chrome(executable_path=r'C:/Users/PARA/Downloads/chromedriver.exe')\n",
    "\n",
    "def convert_html_text(path):\n",
    "    for dirname, subdir, listfile in os.walk(path):\n",
    "            files = [file for file in listfile if file.endswith('.html')]\n",
    "            html_file = files[4]\n",
    "            #for html_file in files[:2]:\n",
    "            print(\"Archivo actual: \", html_file)\n",
    "            #sleep(random.uniform(3.0,5.0))\n",
    "            html_text = open(f'./coded/{html_file}').read()\n",
    "            browser.find_element_by_id('html').send_keys(html_text)\n",
    "            sleep(random.uniform(2.0,4.0))\n",
    "            browser.find_element_by_xpath('//*[@id=\"left_panel\"]/div[2]/div[2]/form/ul/li[2]/input').click()\n",
    "            sleep(random.uniform(2.0,4.0))\n",
    "            text = browser.find_element_by_id('plain').get_attribute('value')\n",
    "            name = os.path.splitext(html_file)[0].lower()\n",
    "            with open(f\"./coded/{name}.txt\", 'w') as text_file:\n",
    "                text_file.write(text)\n",
    "                text_file.close()\n",
    "            browser.refresh()\n",
    "\n",
    "#browser.get('https://www.phpjunkyard.com/tools/html-to-text.php')\n",
    "#path = \"C:/Users/PARA/Documents/Scripts/Python/coded\"\n",
    "#convert_html_text(path)"
   ]
  },
  {
   "cell_type": "code",
   "execution_count": null,
   "metadata": {},
   "outputs": [],
   "source": [
    "def funcTo(path):\n",
    "    for dirname, subdir, listfile in os.walk(path):\n",
    "            files = [file for file in listfile if file.endswith('.html')]\n",
    "            toFunc(files)\n",
    "            #toFunc(lambda file: file for file in listfile if file.endswith('.html'))\n",
    "\n",
    "def toFunc(f):\n",
    "    print(f[1])\n",
    "\n",
    "path = \"C:/Users/PARA/Documents/Scripts/Python/coded\"\n",
    "funcTo(path)"
   ]
  },
  {
   "cell_type": "code",
   "execution_count": 5,
   "metadata": {},
   "outputs": [],
   "source": [
    "# Ordeno los archivos según el tamaño y envío de 5 en 5 para convertir de HTML a TXT\n",
    "from selenium import webdriver\n",
    "from selenium.common.exceptions import NoSuchElementException, InvalidSessionIdException\n",
    "from time import sleep\n",
    "import random, os, glob\n",
    "\n",
    "#global browser\n",
    "browser = webdriver.Chrome(executable_path=r'C:\\Users\\PARA\\Downloads\\chromedriver.exe')\n",
    "browser.get('https://www.phpjunkyard.com/tools/html-to-text.php')\n",
    "\n",
    "def convert_html_text(files):\n",
    "    try:\n",
    "        for file in files:\n",
    "            html_text = open(file).read()\n",
    "            browser.find_element_by_id('html').send_keys(html_text)\n",
    "            sleep(random.uniform(1.0,2.0))\n",
    "            browser.find_element_by_xpath('//*[@id=\"left_panel\"]/div[2]/div[2]/form/ul/li[2]/input').click()\n",
    "            sleep(random.uniform(1.0,2.0))\n",
    "            text = browser.find_element_by_id('plain').get_attribute('value')\n",
    "            name = os.path.splitext(os.path.relpath(file).split('\\\\')[1])[0].lower()\n",
    "            with open(f\"./coded/{name}.txt\", 'w') as text_file:\n",
    "                text_file.write(text)\n",
    "                text_file.close()\n",
    "                os.remove(file)\n",
    "            browser.refresh()\n",
    "            sleep(random.uniform(3.0,5.0))\n",
    "    except NoSuchElementException:\n",
    "        raise Exception(\"No se encontró el elemento\")\n",
    "    except InvalidSessionIdException:\n",
    "        raise Exception(f\"Ha caducado la sesión {browser.session_id}\")\n",
    "\n",
    "ruta = r'C:\\Users\\PARA\\Documents\\Scripts\\Python\\coded'\n",
    "archives = glob.glob(ruta + os.path.sep + '*.html')\n",
    "archives.sort(key=os.path.getsize)\n",
    "files = archives[:10]\n",
    "convert_html_text(files)"
   ]
  },
  {
   "cell_type": "code",
   "execution_count": 27,
   "metadata": {},
   "outputs": [
    {
     "name": "stdout",
     "output_type": "stream",
     "text": [
      "242\n"
     ]
    }
   ],
   "source": [
    "import glob, os\n",
    "ruta = r'C:\\Users\\PARA\\Documents\\Scripts\\Python\\DataProcess'\n",
    "archives = glob.glob(ruta + os.path.sep + '*.csv')\n",
    "archives.sort(key=os.path.getsize)\n",
    "files = archives\n",
    "print(len(files))\n",
    "#for fl in files:\n",
    "#    name = os.path.splitext(os.path.relpath(fl).split('\\\\')[1])[0].lower()\n",
    "#    print(name)"
   ]
  },
  {
   "cell_type": "code",
   "execution_count": null,
   "metadata": {},
   "outputs": [],
   "source": [
    "\n",
    "#archives.sort(key=os.path.getsize)\n",
    "\n",
    "#MÑN terminar el script para automatizar el proceso de html-text, ordenando los files por tamaño y enviando de a 5"
   ]
  },
  {
   "cell_type": "code",
   "execution_count": null,
   "metadata": {},
   "outputs": [],
   "source": [
    "os.stat(r\"c:\\Users\\PARA\\Documents\\Scripts\\Python\\coded\\baddboyysweetheart.html\").st_size\n",
    "ruta = r'C:\\Users\\PARA\\Documents\\Scripts\\Python\\coded'\n",
    "fil = 'baddboyysweetheart.html'\n",
    "print(''.join(ruta+'\\\\'+fil))"
   ]
  },
  {
   "cell_type": "code",
   "execution_count": 53,
   "metadata": {},
   "outputs": [],
   "source": [
    "# Limpiar dataset\n",
    "import re, os\n",
    "\n",
    "def clean_data(files):\n",
    "    # Recorrer los archivos\n",
    "    for file in files:\n",
    "        # Obtener el nombre del archivo\n",
    "        name = os.path.splitext(file)[0].lower()\n",
    "        # Patrones a buscar en cada linea del archivo\n",
    "        text_ptrn = re.compile(r\"[^ \\n:\\w']\") # Texto valido\n",
    "        url_ptrn = re.compile(r\"(?i)\\b((?:https?://|www\\d{0,3}[.]|[a-z0-9.\\-]+[.][a-z]{2,4}/)(?:[^\\s()<>]+|\\(([^\\s()<>]+|(\\([^\\s()<>]+\\)))*\\))+(?:\\(([^\\s()<>]+|(\\([^\\s()<>]+\\)))*\\)|[^\\s`!()\\[\\]{};:'\\\".,<>?«»“”‘’]))\")\n",
    "        date_ptrn = re.compile(r'\\[.+?\\]')\n",
    "        user_ptrn = re.compile(f'{name}.+\\w')\n",
    "        # Abrir el archivo en modo lectura\n",
    "        with open(f'./coded/{file}') as text_file:\n",
    "            # Leer cada linea del archivo\n",
    "            lines = text_file.readlines()\n",
    "            # Cerrar el archivo\n",
    "            text_file.close()\n",
    "        # Obtener las lineas que cumplan el patron\n",
    "        #new_lines = [l.lower() for l in lines if re.match(user_ptrn, l)] # 1. Eliminar lineas de otros usuarios\n",
    "        #new_lines = [re.sub(date_ptrn, '', l) for l in new_lines] # 2. Eliminar lo que este dentro de corchetes\n",
    "        #new_lines = [re.sub(url_ptrn, '', l) for l in new_lines] # 3. Eliminar URLs\n",
    "        #new_lines = [re.sub(text_ptrn, ' ', l) for l in new_lines] # 4. Eliminar caracteres\n",
    "        #new_lines = [re.sub('  ', ' ', l) for l in new_lines] # 5. Eliminar doble espacio\n",
    "        with open(f'./coded/{file}', 'w', encoding='utf-8') as text_file:\n",
    "            # Reescribir el archivo con las nuevas lineas\n",
    "            text_file.writelines(new_lines)\n",
    "            # Cerrar el archivo\n",
    "            text_file.close()\n",
    "\n",
    "\n",
    "# 1. Recorrer carpeta\n",
    "path = r'C:\\Users\\PARA\\Documents\\Scripts\\Python\\coded'\n",
    "for dirname, subdir, listfile in os.walk(path):\n",
    "    # Almacenar los archivos .txt en una lista\n",
    "    files = [file for file in listfile if file.endswith('.txt')]\n",
    "    # Enviar la lista a una funcion\n",
    "    clean_data(files)\n"
   ]
  },
  {
   "cell_type": "code",
   "execution_count": null,
   "metadata": {},
   "outputs": [],
   "source": [
    "import re, os\n",
    "\n",
    "# Obtener el nombre del archivo\n",
    "name = os.path.splitext('audavideo.txt')[0].lower()\n",
    "# Patrones a buscar en cada linea del archivo\n",
    "text_ptrn = re.compile(r\"[^ \\n:\\w']\") # Texto valido\n",
    "url_ptrn = re.compile(r\"(?i)\\b((?:https?://|www\\d{0,3}[.]|[a-z0-9.\\-]+[.][a-z]{2,4}/)(?:[^\\s()<>]+|\\(([^\\s()<>]+|(\\([^\\s()<>]+\\)))*\\))+(?:\\(([^\\s()<>]+|(\\([^\\s()<>]+\\)))*\\)|[^\\s`!()\\[\\]{};:'\\\".,<>?«»“”‘’]))\")\n",
    "date_ptrn = re.compile(r'\\[.+?\\]')\n",
    "user_ptrn = re.compile(f'{name}.+\\w')\n",
    "\n",
    "with open('./coded/audavideo.txt', 'r') as text_file:\n",
    "    # Leer cada linea del archivo\n",
    "    lines = text_file.readlines()\n",
    "    # Cerrar el archivo\n",
    "    text_file.close()\n",
    "\n",
    "# Obtener las lineas que cumplan el patron\n",
    "new_lines = [l.lower() for l in lines if re.match(user_ptrn, l)] # 1. Eliminar lineas de otros usuarios\n",
    "#new_lines = [re.sub(date_ptrn, '', l) for l in new_lines] # 2. Eliminar lo que este dentro de corchetes\n",
    "#new_lines = [re.sub(url_ptrn, '', l) for l in new_lines] # 3. Eliminar URLs\n",
    "#new_lines = [re.sub(text_ptrn, ' ', l) for l in new_lines] # 4. Eliminar caracteres\n",
    "#new_lines = [re.sub('  ', ' ', l) for l in new_lines] # 5. Eliminar palabra question que reemplaza a ?\n",
    "\n",
    "for i in range(len(new_lines)):\n",
    "    print(new_lines[i].split(' : ')[1].removesuffix('\\n'))\n",
    "\n",
    "#with open('./coded/b318ti.txt', 'w', encoding='utf-8') as text_file:\n",
    "    # Reescribir el archivo con las nuevas lineas\n",
    "#    text_file.writelines(new_lines)\n",
    "    # Cerrar el archivo\n",
    "#    text_file.close()"
   ]
  },
  {
   "cell_type": "code",
   "execution_count": 26,
   "metadata": {},
   "outputs": [],
   "source": [
    "import re, os, pandas as pd\n",
    "\n",
    "def txtTocsv(files):\n",
    "    try:\n",
    "        for file in files:\n",
    "            #print(\"Nombre del archivo: \", file)\n",
    "            f = open(f\"./coded/{file}\", mode='r',encoding='utf-8')\n",
    "            lines = f.readlines()\n",
    "            f.close()\n",
    "            user = [line.split(' : ')[0] for line in lines]\n",
    "            text = [line.split(' : ')[1].removesuffix('\\n') for line in lines]\n",
    "            name = os.path.splitext(file)[0]\n",
    "            df = pd.DataFrame({'User':user,'Text':text,'Groom':1})\n",
    "            df.to_csv(f'./DataProcess/{name}.csv',index=False)\n",
    "            #ready_files.append(file)\n",
    "            os.remove(f'./coded/{file}')\n",
    "    except (TypeError, IndexError):\n",
    "        #fails_files.append(file)\n",
    "        raise Exception(\"Archivo con formato erroneo: \", file)\n",
    "    \n",
    "def walkDir(path):\n",
    "    for dirname, subdir, listfile in os.walk(path):\n",
    "        # Almacenar los archivos .txt en una lista\n",
    "        files = [file for file in listfile if file.endswith('.txt')]\n",
    "        # Enviar la lista a una funcion\n",
    "        txtTocsv(files)\n",
    "\n",
    "ruta = 'C:/Users/PARA/Documents/Scripts/Python/coded'\n",
    "#files = glob.glob(ruta + os.path.sep + '*.txt')\n",
    "walkDir(ruta)\n",
    "#print('\\n'.join(files))\n",
    "#txtTocsv(files)"
   ]
  },
  {
   "cell_type": "code",
   "execution_count": 5,
   "metadata": {},
   "outputs": [
    {
     "name": "stdout",
     "output_type": "stream",
     "text": [
      "[1, 3, 5, 9]\n"
     ]
    }
   ],
   "source": [
    "pares = []\n",
    "impares = []\n",
    "numbers = [1, 2, 3, 5, 9]\n",
    "for n in numbers:\n",
    "    if n%2==0:\n",
    "        pares.append(n)\n",
    "    else:\n",
    "        impares.append(n)\n",
    "print(impares)"
   ]
  },
  {
   "cell_type": "code",
   "execution_count": null,
   "metadata": {},
   "outputs": [],
   "source": []
  }
 ],
 "metadata": {
  "kernelspec": {
   "display_name": "Python 3",
   "language": "python",
   "name": "python3"
  },
  "language_info": {
   "codemirror_mode": {
    "name": "ipython",
    "version": 3
   },
   "file_extension": ".py",
   "mimetype": "text/x-python",
   "name": "python",
   "nbconvert_exporter": "python",
   "pygments_lexer": "ipython3",
   "version": "3.7.10"
  },
  "metadata": {
   "interpreter": {
    "hash": "d908081e8863246d5e9a3ac1abb6de40702df743725009318656e53f482b3a60"
   }
  }
 },
 "nbformat": 4,
 "nbformat_minor": 2
}
