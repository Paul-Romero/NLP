{
 "cells": [
  {
   "cell_type": "code",
   "execution_count": null,
   "metadata": {},
   "outputs": [],
   "source": [
    "# Celda importar librerias\n",
    "import os, re, random, pandas as pd"
   ]
  },
  {
   "cell_type": "code",
   "execution_count": null,
   "metadata": {
    "tags": []
   },
   "outputs": [],
   "source": [
    "# Celda manejo de archivos\n",
    "def deleteChars(text):\n",
    "    ntext = [c for c in text.split() if c.isalnum()]\n",
    "    string = ' '.join(str(i) for i in ntext)\n",
    "    return string.lower()\n",
    "\n",
    "\n",
    "def splitUserText(text):\n",
    "    string = [re.sub(r\"\\(.*\\)\\:\", '', k) for k in text.split(\"\\n\")]\n",
    "    nstr = string[0].split()\n",
    "    user = nstr[0]\n",
    "    text = ' '.join(str(i) for i in nstr[1:])\n",
    "    text = deleteChars(text)\n",
    "    return user.lower(), text.lower()\n",
    "\n",
    "\n",
    "def fileProcess(archive):\n",
    "    print(\"Nombre del archivo con formato erroneo: \", archive)\n",
    "    file = open(f\"Dataset/{archive}\", mode='r',encoding='utf-8')\n",
    "    line = file.read()\n",
    "    if line:\n",
    "        chat = [re.sub(r\"\\(.*\\)\\:\", '', k) for k in line.split(\"\\n\")]\n",
    "    user_list, text_list = [], []\n",
    "    for i in range(len(chat)):\n",
    "        if chat[i]:\n",
    "            user, text = splitUserText(chat[i])\n",
    "        if text:\n",
    "            user_list.append(user)\n",
    "            text_list.append(text)\n",
    "    file.close()\n",
    "    groom = os.path.splitext(archive)[0]\n",
    "    #for i in range(len(chat)):\n",
    "    #    t = chat[i].split(' : ')\n",
    "    #    user.append(t[0])\n",
    "    #    text.append(t[1].lower())\n",
    "    df = pd.DataFrame({'User':user_list,'Text':text_list,'Label':0})\n",
    "    df['Label'] = df['User'] == groom\n",
    "    df.to_csv(f'Dataset/{groom}.csv',index=False)\n",
    "    print(df.info(),df,sep='\\n\\n')\n",
    "\n",
    "def walkPath(path):\n",
    "    for dirname, subdir, listfile in os.walk(path):\n",
    "            for file in listfile:\n",
    "                if file.endswith('.txt'):\n",
    "                    fileProcess(file)\n",
    "\n",
    "#path = \"C:/Users/PARA/Documents/Scripts/Python/Dataset\"\n",
    "#walkPath(path)\n",
    "#fileProcess(\"aGreatGuy.txt\")"
   ]
  },
  {
   "cell_type": "code",
   "execution_count": null,
   "metadata": {},
   "outputs": [],
   "source": [
    "# Celda mostrar datos\n",
    "#print(df.describe(),df.info(),df,sep='\\n\\n')"
   ]
  },
  {
   "cell_type": "code",
   "execution_count": null,
   "metadata": {
    "tags": []
   },
   "outputs": [],
   "source": [
    "# Celda de pruebas\n",
    "def deleteChars(text):\n",
    "    ntext = [c for c in text.split() if c.isalnum()]\n",
    "    #ntext = re.findall('[\\w]', ntext)\n",
    "    string = ' '.join(str(i) for i in ntext)\n",
    "    return string\n",
    "\n",
    "def splitUserText(text):\n",
    "    if text:\n",
    "        string = [re.sub(r\"('[^',]+),([^']+')\", '', k) for k in text.split(\"\\n\")]\n",
    "        nstr = string[0].split()\n",
    "        user = nstr[0]\n",
    "        text = ' '.join(str(i) for i in nstr[1:])\n",
    "        text = deleteChars(text)\n",
    "        return user.lower(), text.lower()\n",
    "\n",
    "splitUserText(\"ilovethaocean (08/26/06 1:20:13 AM): Im gonna call u at 5:45 so ill kno its u comin thru the garage door lol\")\n",
    "#ARREGLAR LOS TXT ANTES DE EJECUTAR"
   ]
  },
  {
   "cell_type": "code",
   "execution_count": null,
   "metadata": {},
   "outputs": [],
   "source": [
    "li = []\n",
    "usr = []\n",
    "line = \"RockClmbr2002: ok like are you Rachael or is someone else there cuz this is a little scary\"\n",
    "text = [re.sub(r\"\\:\", '', k) for k in line.split(r'[\\W]')]\n",
    "usr = text[0]\n",
    "for i in text:\n",
    "    text = deleteChars(i)\n",
    "    li.append(text)\n",
    "\n",
    "string = ' '.join(str(i) for i in li)\n",
    "print(usr)"
   ]
  },
  {
   "cell_type": "code",
   "execution_count": null,
   "metadata": {},
   "outputs": [],
   "source": [
    "file = open(\"Dataset/sentiment labelled sentences/imdb_labelled.txt\", mode='r',encoding='utf-8')\n",
    "lines = file.readlines()\n",
    "text, label = [], []\n",
    "if lines:\n",
    "    for line in lines:\n",
    "        text.append(line.split('\\t')[0])\n",
    "        label.append(line.split('\\t')[1])\n",
    "file.close()\n",
    "df = pd.DataFrame({'Text':text,'Label':label})\n",
    "df['Label'] = df['Label'] == '1\\n'\n",
    "df.to_csv('Dataset/sentiment labelled sentences/imdb_labelled.csv',index=False)\n",
    "print(df.info(),df,sep='\\n')"
   ]
  },
  {
   "cell_type": "code",
   "execution_count": null,
   "metadata": {},
   "outputs": [],
   "source": [
    "def get_csv_files(path):\n",
    "    for dirname, subdir, listfile in os.walk(path):\n",
    "            for file in listfile:\n",
    "                if file.endswith('.csv'):\n",
    "                    change_label(file)"
   ]
  },
  {
   "cell_type": "code",
   "execution_count": null,
   "metadata": {},
   "outputs": [],
   "source": [
    "def change_label(file):\n",
    "    df_file = pd.read_csv(f\"Dataset/{file}\")\n",
    "    df_file = df_file.rename(columns={'Label':'Groom'})\n",
    "    df_file.to_csv(f\"Dataset/{file}\",index=False)"
   ]
  },
  {
   "cell_type": "code",
   "execution_count": null,
   "metadata": {},
   "outputs": [],
   "source": [
    "path = \"C:/Users/PARA/Documents/Scripts/Python/Dataset\"\n",
    "#get_csv_files(path)"
   ]
  },
  {
   "cell_type": "code",
   "execution_count": null,
   "metadata": {},
   "outputs": [],
   "source": [
    "files_fails = [\"atlanta_italian\"]"
   ]
  },
  {
   "cell_type": "code",
   "execution_count": null,
   "metadata": {},
   "outputs": [],
   "source": [
    "for file in files_fails:\n",
    "    groom = os.path.splitext(file)[0].lower()\n",
    "    df_file = pd.read_csv(f\"Dataset/{file}.csv\")\n",
    "    df_file['Groom'] = df_file['User'] == groom\n",
    "    df_file.to_csv(f'Dataset/{file}.csv',index=False)"
   ]
  },
  {
   "cell_type": "code",
   "execution_count": null,
   "metadata": {},
   "outputs": [],
   "source": [
    "def delFiles(path):\n",
    "    for dirname, subdir, listfile in os.walk(path):\n",
    "            for file in listfile:\n",
    "                if file.endswith('.csv.csv'):\n",
    "                    os.remove(path+'/'+file)"
   ]
  },
  {
   "cell_type": "code",
   "execution_count": null,
   "metadata": {},
   "outputs": [],
   "source": [
    "path = \"C:/Users/PARA/Documents/Scripts/Python/Dataset\"\n",
    "delFiles(path)"
   ]
  },
  {
   "cell_type": "code",
   "execution_count": 1,
   "metadata": {},
   "outputs": [],
   "source": [
    "# HTML to Text \"assfider.txt forward->\"\r\n",
    "from selenium import webdriver\r\n",
    "from time import sleep\r\n",
    "import random, os\r\n",
    "global browser\r\n",
    "browser = webdriver.Chrome(executable_path=r'C:/Users/PARA/Downloads/chromedriver.exe')\r\n",
    "\r\n",
    "def convert_html_text(path):\r\n",
    "    for dirname, subdir, listfile in os.walk(path):\r\n",
    "            files = [file for file in listfile if file.endswith('.html')]\r\n",
    "            html_file = files[4]\r\n",
    "            #for html_file in files[:2]:\r\n",
    "            print(\"Archivo actual: \", html_file)\r\n",
    "            #sleep(random.uniform(3.0,5.0))\r\n",
    "            html_text = open(f'./coded/{html_file}').read()\r\n",
    "            browser.find_element_by_id('html').send_keys(html_text)\r\n",
    "            sleep(random.uniform(2.0,4.0))\r\n",
    "            browser.find_element_by_xpath('//*[@id=\"left_panel\"]/div[2]/div[2]/form/ul/li[2]/input').click()\r\n",
    "            sleep(random.uniform(2.0,4.0))\r\n",
    "            text = browser.find_element_by_id('plain').get_attribute('value')\r\n",
    "            name = os.path.splitext(html_file)[0].lower()\r\n",
    "            with open(f\"./coded/{name}.txt\", 'w') as text_file:\r\n",
    "                text_file.write(text)\r\n",
    "                text_file.close()\r\n",
    "            browser.refresh()\r\n",
    "\r\n",
    "#browser.get('https://www.phpjunkyard.com/tools/html-to-text.php')\r\n",
    "#path = \"C:/Users/PARA/Documents/Scripts/Python/coded\"\r\n",
    "#convert_html_text(path)"
   ]
  },
  {
   "cell_type": "code",
   "execution_count": null,
   "metadata": {},
   "outputs": [],
   "source": [
    "def funcTo(path):\n",
    "    for dirname, subdir, listfile in os.walk(path):\n",
    "            files = [file for file in listfile if file.endswith('.html')]\n",
    "            toFunc(files)\n",
    "            #toFunc(lambda file: file for file in listfile if file.endswith('.html'))\n",
    "\n",
    "def toFunc(f):\n",
    "    print(f[1])\n",
    "\n",
    "path = \"C:/Users/PARA/Documents/Scripts/Python/coded\"\n",
    "funcTo(path)"
   ]
  },
  {
   "cell_type": "code",
   "execution_count": 5,
   "metadata": {},
   "outputs": [],
   "source": [
    "# Ordeno los archivos según el tamaño y envío de 5 en 5 para convertir de HTML a TXT\r\n",
    "from selenium import webdriver\r\n",
    "from selenium.common.exceptions import NoSuchElementException, InvalidSessionIdException\r\n",
    "from time import sleep\r\n",
    "import random, os, glob\r\n",
    "\r\n",
    "#global browser\r\n",
    "browser = webdriver.Chrome(executable_path=r'C:\\Users\\PARA\\Downloads\\chromedriver.exe')\r\n",
    "browser.get('https://www.phpjunkyard.com/tools/html-to-text.php')\r\n",
    "\r\n",
    "def convert_html_text(files):\r\n",
    "    try:\r\n",
    "        for file in files:\r\n",
    "            html_text = open(file).read()\r\n",
    "            browser.find_element_by_id('html').send_keys(html_text)\r\n",
    "            sleep(random.uniform(1.0,2.0))\r\n",
    "            browser.find_element_by_xpath('//*[@id=\"left_panel\"]/div[2]/div[2]/form/ul/li[2]/input').click()\r\n",
    "            sleep(random.uniform(1.0,2.0))\r\n",
    "            text = browser.find_element_by_id('plain').get_attribute('value')\r\n",
    "            name = os.path.splitext(os.path.relpath(file).split('\\\\')[1])[0].lower()\r\n",
    "            with open(f\"./coded/{name}.txt\", 'w') as text_file:\r\n",
    "                text_file.write(text)\r\n",
    "                text_file.close()\r\n",
    "                os.remove(file)\r\n",
    "            browser.refresh()\r\n",
    "            sleep(random.uniform(3.0,5.0))\r\n",
    "    except NoSuchElementException:\r\n",
    "        raise Exception(\"No se encontró el elemento\")\r\n",
    "    except InvalidSessionIdException:\r\n",
    "        raise Exception(f\"Ha caducado la sesión {browser.session_id}\")\r\n",
    "\r\n",
    "ruta = r'C:\\Users\\PARA\\Documents\\Scripts\\Python\\coded'\r\n",
    "archives = glob.glob(ruta + os.path.sep + '*.html')\r\n",
    "archives.sort(key=os.path.getsize)\r\n",
    "files = archives[:10]\r\n",
    "convert_html_text(files)"
   ]
  },
  {
   "cell_type": "code",
   "execution_count": 11,
   "metadata": {},
   "outputs": [
    {
     "name": "stdout",
     "output_type": "stream",
     "text": [
      "250\n"
     ]
    }
   ],
   "source": [
    "import glob, os\r\n",
    "ruta = r'C:\\Users\\PARA\\Documents\\Scripts\\Python\\coded'\r\n",
    "archives = glob.glob(ruta + os.path.sep + '*.txt')\r\n",
    "archives.sort(key=os.path.getsize)\r\n",
    "files = archives\r\n",
    "print(len(files))\r\n",
    "#for fl in files:\r\n",
    "#    name = os.path.splitext(os.path.relpath(fl).split('\\\\')[1])[0].lower()\r\n",
    "#    print(name)"
   ]
  },
  {
   "cell_type": "code",
   "execution_count": null,
   "metadata": {},
   "outputs": [],
   "source": [
    "\r\n",
    "#archives.sort(key=os.path.getsize)\r\n",
    "\r\n",
    "#MÑN terminar el script para automatizar el proceso de html-text, ordenando los files por tamaño y enviando de a 5"
   ]
  },
  {
   "cell_type": "code",
   "execution_count": null,
   "metadata": {},
   "outputs": [],
   "source": [
    "os.stat(r\"c:\\Users\\PARA\\Documents\\Scripts\\Python\\coded\\baddboyysweetheart.html\").st_size\r\n",
    "ruta = r'C:\\Users\\PARA\\Documents\\Scripts\\Python\\coded'\r\n",
    "fil = 'baddboyysweetheart.html'\r\n",
    "print(''.join(ruta+'\\\\'+fil))"
   ]
  },
  {
   "cell_type": "code",
   "execution_count": null,
   "metadata": {},
   "outputs": [],
   "source": []
  }
 ],
 "metadata": {
  "kernelspec": {
   "display_name": "Python 3.9.5 64-bit (windows store)",
   "name": "python395jvsc74a57bd0d908081e8863246d5e9a3ac1abb6de40702df743725009318656e53f482b3a60"
  },
  "language_info": {
   "codemirror_mode": {
    "name": "ipython",
    "version": 3
   },
   "file_extension": ".py",
   "mimetype": "text/x-python",
   "name": "python",
   "nbconvert_exporter": "python",
   "pygments_lexer": "ipython3",
   "version": "3.9.5"
  },
  "metadata": {
   "interpreter": {
    "hash": "d908081e8863246d5e9a3ac1abb6de40702df743725009318656e53f482b3a60"
   }
  }
 },
 "nbformat": 4,
 "nbformat_minor": 2
}