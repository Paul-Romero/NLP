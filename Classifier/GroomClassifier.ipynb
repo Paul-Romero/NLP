{
 "cells": [
  {
   "cell_type": "code",
   "execution_count": null,
   "id": "9ad94263",
   "metadata": {},
   "outputs": [],
   "source": [
    "from sklearn.feature_extraction.text import TfidfVectorizer\n",
    "from sklearn.feature_selection import SelectKBest, chi2\n",
    "from sklearn.model_selection import cross_val_score\n",
    "from sklearn.model_selection import train_test_split\n",
    "from sklearn.pipeline import make_pipeline\n",
    "from sklearn.metrics import *\n",
    "from sklearn.svm import SVC\n",
    "from nltk.corpus import stopwords\n",
    "import pandas as pd\n",
    "import joblib\n",
    "\n",
    "groom_df = pd.read_csv(\"Dataset/kalowoodsman.csv\")\n",
    "\n",
    "X, y = groom_df['Text'].values, groom_df['Groom'].values\n",
    "\n",
    "X_train, X_test, y_train, y_test = train_test_split(X, y, test_size=0.3, random_state=42)\n",
    "\n",
    "modelSVM = SVC(C=1, kernel='linear', gamma='scale', random_state=0, probability=True)\n",
    "\n",
    "modelSVM.fit(X_vect, y_train)\n",
    "\n",
    "cross_val_score(modelSVM, X, y, cv=5, scoring='accuracy').mean()\n",
    "\n",
    "print(modelSVM.score(y_vect, y_test))\n",
    "\n",
    "Y_predSVM = modelSVM.predict(y_vect)\n",
    "\n",
    "print(classification_report(y_test, Y_predSVM))\n",
    "\n",
    "y_scoreSVM = modelSVM.score(X_test, y_test)\n",
    "\n",
    "print(y_scoreSVM)\n",
    "\n",
    "msg_prob = modelSVM.predict_proba(TF_IDF.transform([\"Go play soccer\"]))\n",
    "msg_pred = modelSVM.predict(TF_IDF.transform([\"Go play soccer\"]))\n",
    "print(f\"El algoritmo SVM clasifica el mensaje como: {msg_pred[0]} con una confianza del {msg_prob[0][0]:.4f}% para NoGroomer y {msg_prob[0][1]:.4f}% para Groomer\")\n"
   ]
  },
  {
   "cell_type": "code",
   "execution_count": null,
   "id": "560a3a5c",
   "metadata": {},
   "outputs": [],
   "source": [
    "joblib.dump(modelSVM, 'GroomeClassifier.pkl')\n",
    "#clf = joblib.load('GroomeClassifier.pkl')"
   ]
  }
 ],
 "metadata": {
  "kernelspec": {
   "display_name": "Python 3",
   "language": "python",
   "name": "python3"
  },
  "language_info": {
   "codemirror_mode": {
    "name": "ipython",
    "version": 3
   },
   "file_extension": ".py",
   "mimetype": "text/x-python",
   "name": "python",
   "nbconvert_exporter": "python",
   "pygments_lexer": "ipython3",
   "version": "3.7.10"
  }
 },
 "nbformat": 4,
 "nbformat_minor": 5
}
